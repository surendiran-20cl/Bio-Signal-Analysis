{
  "nbformat": 4,
  "nbformat_minor": 0,
  "metadata": {
    "colab": {
      "provenance": [],
      "toc_visible": true,
      "gpuType": "T4"
    },
    "kernelspec": {
      "name": "python3",
      "display_name": "Python 3"
    },
    "language_info": {
      "name": "python"
    },
    "accelerator": "GPU"
  },
  "cells": [
    {
      "cell_type": "code",
      "execution_count": null,
      "metadata": {
        "id": "9HM2kd2YRoYo"
      },
      "outputs": [],
      "source": []
    },
    {
      "cell_type": "markdown",
      "source": [
        "# Bio-Signal Based Smoking Classification Using ML\n",
        "# Problem Statement\n",
        "You are working as a data scientist in a global\n",
        "company. Over the years, the company has\n",
        "collected details and gathered a lot of\n",
        "information about individuals. The\n",
        "management wants to build an intelligent\n",
        "system from the data to determine the\n",
        "presence or absence of smoking in a person\n",
        "through bio-signals. Given a person’s\n",
        "information, build a machine learning model\n",
        "that can classify the presence or absence of\n",
        "smoking.\n",
        "\n",
        "## Objective\n",
        "To build a machine learning model that predicts whether a person is a smoker based on biological health signals.\n",
        "\n",
        "\n"
      ],
      "metadata": {
        "id": "OJWEfBMOR7LG"
      }
    },
    {
      "cell_type": "code",
      "source": [
        "from google.colab import drive\n",
        "drive.mount('/content/drive')"
      ],
      "metadata": {
        "colab": {
          "base_uri": "https://localhost:8080/"
        },
        "id": "N-3mGPj8TQsl",
        "outputId": "f9720cce-8ed3-47a0-e15d-1b3057638c90"
      },
      "execution_count": 1,
      "outputs": [
        {
          "output_type": "stream",
          "name": "stdout",
          "text": [
            "Mounted at /content/drive\n"
          ]
        }
      ]
    },
    {
      "cell_type": "markdown",
      "source": [
        "# Dataset Information\n",
        "\n",
        "This dataset is a collection of basic health biological signal data which\n",
        "contains around 55K record with 27 attributes.\n",
        "\n",
        "### Dataset Link: https://drive.google.com/file/d/1-2EFxY4u_lUaGNgsstEFAjT01mwOS4h5/view?usp=sharing\n",
        "\n",
        "### Attribute Descriptions\n",
        "\n",
        "| Attribute              | Description                                                                 |\n",
        "|------------------------|-----------------------------------------------------------------------------|\n",
        "| `ID`                   | Unique identifier for each individual (not useful for prediction)           |\n",
        "| `gender`               | Gender of the individual: `M` (Male) or `F` (Female)                        |\n",
        "| `age`                  | Age group of the person (in 5-year intervals)                                |\n",
        "| `height(cm)`           | Height of the person in centimeters                                          |\n",
        "| `weight(kg)`           | Weight of the person in kilograms                                            |\n",
        "| `waist(cm)`            | Waist circumference in centimeters                                           |\n",
        "| `eyesight(left)`       | Vision measurement for the left eye                                          |\n",
        "| `eyesight(right)`      | Vision measurement for the right eye                                         |\n",
        "| `hearing(left)`        | Hearing ability in the left ear (likely binary)                              |\n",
        "| `hearing(right)`       | Hearing ability in the right ear (likely binary)                             |\n",
        "| `systolic`             | Systolic blood pressure (upper value)                                        |\n",
        "| `relaxation`           | Diastolic blood pressure (lower value, also called \"relaxation\")            |\n",
        "| `fasting blood sugar`  | Blood sugar level after fasting                                              |\n",
        "| `Cholesterol`          | Total cholesterol level                                                      |\n",
        "| `triglyceride`         | Triglyceride level (type of fat in the blood)                                |\n",
        "| `HDL`                  | High-Density Lipoprotein cholesterol (good cholesterol)                      |\n",
        "| `LDL`                  | Low-Density Lipoprotein cholesterol (bad cholesterol)                        |\n",
        "| `hemoglobin`           | Hemoglobin level (oxygen-carrying protein in red blood cells)               |\n",
        "| `Urine protein`        | Protein content in urine (indicator of kidney function or disease)           |\n",
        "| `serum creatinine`     | Creatinine in blood (indicator of kidney function)                           |\n",
        "| `AST`                  | Aspartate transaminase enzyme level (liver function marker)                  |\n",
        "| `ALT`                  | Alanine transaminase enzyme level (liver function marker)                    |\n",
        "| `Gtp`                  | Gamma-glutamyl transpeptidase level (linked to liver health)                 |\n",
        "| `oral`                 | Oral examination status (categorical)                                       |\n",
        "| `dental caries`        | Indicator of tooth decay (0 or 1)                                            |\n",
        "| `tartar`               | Indicator of tartar presence on teeth (0 or 1)                               |\n",
        "| `smoking`              | Target variable: 1 for smoker, 0 for non-smoker                              |\n"
      ],
      "metadata": {
        "id": "2DZ1xfggSf8N"
      }
    },
    {
      "cell_type": "markdown",
      "source": [
        "# Step 1: Importing Required Libraries\n"
      ],
      "metadata": {
        "id": "CRndYQ22Sa_H"
      }
    },
    {
      "cell_type": "code",
      "source": [
        "# Basic data handling\n",
        "import numpy as np\n",
        "import pandas as pd\n",
        "\n",
        "# Data visualization\n",
        "import matplotlib.pyplot as plt\n",
        "import seaborn as sns\n",
        "\n",
        "# Preprocessing tools\n",
        "from sklearn.model_selection import train_test_split\n",
        "from sklearn.preprocessing import StandardScaler\n",
        "\n",
        "# Machine learning models\n",
        "from sklearn.linear_model import LogisticRegression\n",
        "from sklearn.tree import DecisionTreeClassifier\n",
        "from sklearn.ensemble import BaggingClassifier, RandomForestClassifier, ExtraTreesClassifier\n",
        "\n",
        "# Evaluation metrics\n",
        "from sklearn.metrics import accuracy_score, classification_report\n",
        "\n",
        "# Suppress unnecessary warnings\n",
        "import warnings\n",
        "warnings.filterwarnings('ignore')\n"
      ],
      "metadata": {
        "id": "bzmN_AQ0Sc_T"
      },
      "execution_count": 2,
      "outputs": []
    },
    {
      "cell_type": "markdown",
      "source": [
        "Explanation:\n",
        "\n",
        "- pandas, numpy: For data manipulation and numerical computations.\n",
        "\n",
        "- seaborn, matplotlib: For data visualization.\n",
        "\n",
        "- scikit-learn: Used for model building, preprocessing, and evaluation."
      ],
      "metadata": {
        "id": "3ltAgZZ0Ux-r"
      }
    },
    {
      "cell_type": "markdown",
      "source": [
        "# Step 2: Load the Dataset\n"
      ],
      "metadata": {
        "id": "oxJA0XxOU2yx"
      }
    },
    {
      "cell_type": "code",
      "source": [
        "# Load the dataset from CSV file\n",
        "df = pd.read_csv(\"/content/drive/MyDrive/Intellipaat Colab Files/Bio Signal Analysis/smoking.csv\")\n",
        "\n",
        "# Display first few records to understand the structure\n",
        "df.head()\n"
      ],
      "metadata": {
        "colab": {
          "base_uri": "https://localhost:8080/",
          "height": 273
        },
        "id": "9NnBMolmUuT8",
        "outputId": "504b7963-2689-4979-950e-9f216e692ee6"
      },
      "execution_count": 3,
      "outputs": [
        {
          "output_type": "execute_result",
          "data": {
            "text/plain": [
              "   ID gender  age  height(cm)  weight(kg)  waist(cm)  eyesight(left)  \\\n",
              "0   0      F   40         155          60       81.3             1.2   \n",
              "1   1      F   40         160          60       81.0             0.8   \n",
              "2   2      M   55         170          60       80.0             0.8   \n",
              "3   3      M   40         165          70       88.0             1.5   \n",
              "4   4      F   40         155          60       86.0             1.0   \n",
              "\n",
              "   eyesight(right)  hearing(left)  hearing(right)  ...  hemoglobin  \\\n",
              "0              1.0            1.0             1.0  ...        12.9   \n",
              "1              0.6            1.0             1.0  ...        12.7   \n",
              "2              0.8            1.0             1.0  ...        15.8   \n",
              "3              1.5            1.0             1.0  ...        14.7   \n",
              "4              1.0            1.0             1.0  ...        12.5   \n",
              "\n",
              "   Urine protein  serum creatinine   AST   ALT   Gtp  oral  dental caries  \\\n",
              "0            1.0               0.7  18.0  19.0  27.0     Y              0   \n",
              "1            1.0               0.6  22.0  19.0  18.0     Y              0   \n",
              "2            1.0               1.0  21.0  16.0  22.0     Y              0   \n",
              "3            1.0               1.0  19.0  26.0  18.0     Y              0   \n",
              "4            1.0               0.6  16.0  14.0  22.0     Y              0   \n",
              "\n",
              "   tartar  smoking  \n",
              "0       Y        0  \n",
              "1       Y        0  \n",
              "2       N        1  \n",
              "3       Y        0  \n",
              "4       N        0  \n",
              "\n",
              "[5 rows x 27 columns]"
            ],
            "text/html": [
              "\n",
              "  <div id=\"df-7b79dc10-5c4a-4a08-881d-04ed423c1720\" class=\"colab-df-container\">\n",
              "    <div>\n",
              "<style scoped>\n",
              "    .dataframe tbody tr th:only-of-type {\n",
              "        vertical-align: middle;\n",
              "    }\n",
              "\n",
              "    .dataframe tbody tr th {\n",
              "        vertical-align: top;\n",
              "    }\n",
              "\n",
              "    .dataframe thead th {\n",
              "        text-align: right;\n",
              "    }\n",
              "</style>\n",
              "<table border=\"1\" class=\"dataframe\">\n",
              "  <thead>\n",
              "    <tr style=\"text-align: right;\">\n",
              "      <th></th>\n",
              "      <th>ID</th>\n",
              "      <th>gender</th>\n",
              "      <th>age</th>\n",
              "      <th>height(cm)</th>\n",
              "      <th>weight(kg)</th>\n",
              "      <th>waist(cm)</th>\n",
              "      <th>eyesight(left)</th>\n",
              "      <th>eyesight(right)</th>\n",
              "      <th>hearing(left)</th>\n",
              "      <th>hearing(right)</th>\n",
              "      <th>...</th>\n",
              "      <th>hemoglobin</th>\n",
              "      <th>Urine protein</th>\n",
              "      <th>serum creatinine</th>\n",
              "      <th>AST</th>\n",
              "      <th>ALT</th>\n",
              "      <th>Gtp</th>\n",
              "      <th>oral</th>\n",
              "      <th>dental caries</th>\n",
              "      <th>tartar</th>\n",
              "      <th>smoking</th>\n",
              "    </tr>\n",
              "  </thead>\n",
              "  <tbody>\n",
              "    <tr>\n",
              "      <th>0</th>\n",
              "      <td>0</td>\n",
              "      <td>F</td>\n",
              "      <td>40</td>\n",
              "      <td>155</td>\n",
              "      <td>60</td>\n",
              "      <td>81.3</td>\n",
              "      <td>1.2</td>\n",
              "      <td>1.0</td>\n",
              "      <td>1.0</td>\n",
              "      <td>1.0</td>\n",
              "      <td>...</td>\n",
              "      <td>12.9</td>\n",
              "      <td>1.0</td>\n",
              "      <td>0.7</td>\n",
              "      <td>18.0</td>\n",
              "      <td>19.0</td>\n",
              "      <td>27.0</td>\n",
              "      <td>Y</td>\n",
              "      <td>0</td>\n",
              "      <td>Y</td>\n",
              "      <td>0</td>\n",
              "    </tr>\n",
              "    <tr>\n",
              "      <th>1</th>\n",
              "      <td>1</td>\n",
              "      <td>F</td>\n",
              "      <td>40</td>\n",
              "      <td>160</td>\n",
              "      <td>60</td>\n",
              "      <td>81.0</td>\n",
              "      <td>0.8</td>\n",
              "      <td>0.6</td>\n",
              "      <td>1.0</td>\n",
              "      <td>1.0</td>\n",
              "      <td>...</td>\n",
              "      <td>12.7</td>\n",
              "      <td>1.0</td>\n",
              "      <td>0.6</td>\n",
              "      <td>22.0</td>\n",
              "      <td>19.0</td>\n",
              "      <td>18.0</td>\n",
              "      <td>Y</td>\n",
              "      <td>0</td>\n",
              "      <td>Y</td>\n",
              "      <td>0</td>\n",
              "    </tr>\n",
              "    <tr>\n",
              "      <th>2</th>\n",
              "      <td>2</td>\n",
              "      <td>M</td>\n",
              "      <td>55</td>\n",
              "      <td>170</td>\n",
              "      <td>60</td>\n",
              "      <td>80.0</td>\n",
              "      <td>0.8</td>\n",
              "      <td>0.8</td>\n",
              "      <td>1.0</td>\n",
              "      <td>1.0</td>\n",
              "      <td>...</td>\n",
              "      <td>15.8</td>\n",
              "      <td>1.0</td>\n",
              "      <td>1.0</td>\n",
              "      <td>21.0</td>\n",
              "      <td>16.0</td>\n",
              "      <td>22.0</td>\n",
              "      <td>Y</td>\n",
              "      <td>0</td>\n",
              "      <td>N</td>\n",
              "      <td>1</td>\n",
              "    </tr>\n",
              "    <tr>\n",
              "      <th>3</th>\n",
              "      <td>3</td>\n",
              "      <td>M</td>\n",
              "      <td>40</td>\n",
              "      <td>165</td>\n",
              "      <td>70</td>\n",
              "      <td>88.0</td>\n",
              "      <td>1.5</td>\n",
              "      <td>1.5</td>\n",
              "      <td>1.0</td>\n",
              "      <td>1.0</td>\n",
              "      <td>...</td>\n",
              "      <td>14.7</td>\n",
              "      <td>1.0</td>\n",
              "      <td>1.0</td>\n",
              "      <td>19.0</td>\n",
              "      <td>26.0</td>\n",
              "      <td>18.0</td>\n",
              "      <td>Y</td>\n",
              "      <td>0</td>\n",
              "      <td>Y</td>\n",
              "      <td>0</td>\n",
              "    </tr>\n",
              "    <tr>\n",
              "      <th>4</th>\n",
              "      <td>4</td>\n",
              "      <td>F</td>\n",
              "      <td>40</td>\n",
              "      <td>155</td>\n",
              "      <td>60</td>\n",
              "      <td>86.0</td>\n",
              "      <td>1.0</td>\n",
              "      <td>1.0</td>\n",
              "      <td>1.0</td>\n",
              "      <td>1.0</td>\n",
              "      <td>...</td>\n",
              "      <td>12.5</td>\n",
              "      <td>1.0</td>\n",
              "      <td>0.6</td>\n",
              "      <td>16.0</td>\n",
              "      <td>14.0</td>\n",
              "      <td>22.0</td>\n",
              "      <td>Y</td>\n",
              "      <td>0</td>\n",
              "      <td>N</td>\n",
              "      <td>0</td>\n",
              "    </tr>\n",
              "  </tbody>\n",
              "</table>\n",
              "<p>5 rows × 27 columns</p>\n",
              "</div>\n",
              "    <div class=\"colab-df-buttons\">\n",
              "\n",
              "  <div class=\"colab-df-container\">\n",
              "    <button class=\"colab-df-convert\" onclick=\"convertToInteractive('df-7b79dc10-5c4a-4a08-881d-04ed423c1720')\"\n",
              "            title=\"Convert this dataframe to an interactive table.\"\n",
              "            style=\"display:none;\">\n",
              "\n",
              "  <svg xmlns=\"http://www.w3.org/2000/svg\" height=\"24px\" viewBox=\"0 -960 960 960\">\n",
              "    <path d=\"M120-120v-720h720v720H120Zm60-500h600v-160H180v160Zm220 220h160v-160H400v160Zm0 220h160v-160H400v160ZM180-400h160v-160H180v160Zm440 0h160v-160H620v160ZM180-180h160v-160H180v160Zm440 0h160v-160H620v160Z\"/>\n",
              "  </svg>\n",
              "    </button>\n",
              "\n",
              "  <style>\n",
              "    .colab-df-container {\n",
              "      display:flex;\n",
              "      gap: 12px;\n",
              "    }\n",
              "\n",
              "    .colab-df-convert {\n",
              "      background-color: #E8F0FE;\n",
              "      border: none;\n",
              "      border-radius: 50%;\n",
              "      cursor: pointer;\n",
              "      display: none;\n",
              "      fill: #1967D2;\n",
              "      height: 32px;\n",
              "      padding: 0 0 0 0;\n",
              "      width: 32px;\n",
              "    }\n",
              "\n",
              "    .colab-df-convert:hover {\n",
              "      background-color: #E2EBFA;\n",
              "      box-shadow: 0px 1px 2px rgba(60, 64, 67, 0.3), 0px 1px 3px 1px rgba(60, 64, 67, 0.15);\n",
              "      fill: #174EA6;\n",
              "    }\n",
              "\n",
              "    .colab-df-buttons div {\n",
              "      margin-bottom: 4px;\n",
              "    }\n",
              "\n",
              "    [theme=dark] .colab-df-convert {\n",
              "      background-color: #3B4455;\n",
              "      fill: #D2E3FC;\n",
              "    }\n",
              "\n",
              "    [theme=dark] .colab-df-convert:hover {\n",
              "      background-color: #434B5C;\n",
              "      box-shadow: 0px 1px 3px 1px rgba(0, 0, 0, 0.15);\n",
              "      filter: drop-shadow(0px 1px 2px rgba(0, 0, 0, 0.3));\n",
              "      fill: #FFFFFF;\n",
              "    }\n",
              "  </style>\n",
              "\n",
              "    <script>\n",
              "      const buttonEl =\n",
              "        document.querySelector('#df-7b79dc10-5c4a-4a08-881d-04ed423c1720 button.colab-df-convert');\n",
              "      buttonEl.style.display =\n",
              "        google.colab.kernel.accessAllowed ? 'block' : 'none';\n",
              "\n",
              "      async function convertToInteractive(key) {\n",
              "        const element = document.querySelector('#df-7b79dc10-5c4a-4a08-881d-04ed423c1720');\n",
              "        const dataTable =\n",
              "          await google.colab.kernel.invokeFunction('convertToInteractive',\n",
              "                                                    [key], {});\n",
              "        if (!dataTable) return;\n",
              "\n",
              "        const docLinkHtml = 'Like what you see? Visit the ' +\n",
              "          '<a target=\"_blank\" href=https://colab.research.google.com/notebooks/data_table.ipynb>data table notebook</a>'\n",
              "          + ' to learn more about interactive tables.';\n",
              "        element.innerHTML = '';\n",
              "        dataTable['output_type'] = 'display_data';\n",
              "        await google.colab.output.renderOutput(dataTable, element);\n",
              "        const docLink = document.createElement('div');\n",
              "        docLink.innerHTML = docLinkHtml;\n",
              "        element.appendChild(docLink);\n",
              "      }\n",
              "    </script>\n",
              "  </div>\n",
              "\n",
              "\n",
              "<div id=\"df-9063f806-082d-4675-8596-aa62a38156b7\">\n",
              "  <button class=\"colab-df-quickchart\" onclick=\"quickchart('df-9063f806-082d-4675-8596-aa62a38156b7')\"\n",
              "            title=\"Suggest charts\"\n",
              "            style=\"display:none;\">\n",
              "\n",
              "<svg xmlns=\"http://www.w3.org/2000/svg\" height=\"24px\"viewBox=\"0 0 24 24\"\n",
              "     width=\"24px\">\n",
              "    <g>\n",
              "        <path d=\"M19 3H5c-1.1 0-2 .9-2 2v14c0 1.1.9 2 2 2h14c1.1 0 2-.9 2-2V5c0-1.1-.9-2-2-2zM9 17H7v-7h2v7zm4 0h-2V7h2v10zm4 0h-2v-4h2v4z\"/>\n",
              "    </g>\n",
              "</svg>\n",
              "  </button>\n",
              "\n",
              "<style>\n",
              "  .colab-df-quickchart {\n",
              "      --bg-color: #E8F0FE;\n",
              "      --fill-color: #1967D2;\n",
              "      --hover-bg-color: #E2EBFA;\n",
              "      --hover-fill-color: #174EA6;\n",
              "      --disabled-fill-color: #AAA;\n",
              "      --disabled-bg-color: #DDD;\n",
              "  }\n",
              "\n",
              "  [theme=dark] .colab-df-quickchart {\n",
              "      --bg-color: #3B4455;\n",
              "      --fill-color: #D2E3FC;\n",
              "      --hover-bg-color: #434B5C;\n",
              "      --hover-fill-color: #FFFFFF;\n",
              "      --disabled-bg-color: #3B4455;\n",
              "      --disabled-fill-color: #666;\n",
              "  }\n",
              "\n",
              "  .colab-df-quickchart {\n",
              "    background-color: var(--bg-color);\n",
              "    border: none;\n",
              "    border-radius: 50%;\n",
              "    cursor: pointer;\n",
              "    display: none;\n",
              "    fill: var(--fill-color);\n",
              "    height: 32px;\n",
              "    padding: 0;\n",
              "    width: 32px;\n",
              "  }\n",
              "\n",
              "  .colab-df-quickchart:hover {\n",
              "    background-color: var(--hover-bg-color);\n",
              "    box-shadow: 0 1px 2px rgba(60, 64, 67, 0.3), 0 1px 3px 1px rgba(60, 64, 67, 0.15);\n",
              "    fill: var(--button-hover-fill-color);\n",
              "  }\n",
              "\n",
              "  .colab-df-quickchart-complete:disabled,\n",
              "  .colab-df-quickchart-complete:disabled:hover {\n",
              "    background-color: var(--disabled-bg-color);\n",
              "    fill: var(--disabled-fill-color);\n",
              "    box-shadow: none;\n",
              "  }\n",
              "\n",
              "  .colab-df-spinner {\n",
              "    border: 2px solid var(--fill-color);\n",
              "    border-color: transparent;\n",
              "    border-bottom-color: var(--fill-color);\n",
              "    animation:\n",
              "      spin 1s steps(1) infinite;\n",
              "  }\n",
              "\n",
              "  @keyframes spin {\n",
              "    0% {\n",
              "      border-color: transparent;\n",
              "      border-bottom-color: var(--fill-color);\n",
              "      border-left-color: var(--fill-color);\n",
              "    }\n",
              "    20% {\n",
              "      border-color: transparent;\n",
              "      border-left-color: var(--fill-color);\n",
              "      border-top-color: var(--fill-color);\n",
              "    }\n",
              "    30% {\n",
              "      border-color: transparent;\n",
              "      border-left-color: var(--fill-color);\n",
              "      border-top-color: var(--fill-color);\n",
              "      border-right-color: var(--fill-color);\n",
              "    }\n",
              "    40% {\n",
              "      border-color: transparent;\n",
              "      border-right-color: var(--fill-color);\n",
              "      border-top-color: var(--fill-color);\n",
              "    }\n",
              "    60% {\n",
              "      border-color: transparent;\n",
              "      border-right-color: var(--fill-color);\n",
              "    }\n",
              "    80% {\n",
              "      border-color: transparent;\n",
              "      border-right-color: var(--fill-color);\n",
              "      border-bottom-color: var(--fill-color);\n",
              "    }\n",
              "    90% {\n",
              "      border-color: transparent;\n",
              "      border-bottom-color: var(--fill-color);\n",
              "    }\n",
              "  }\n",
              "</style>\n",
              "\n",
              "  <script>\n",
              "    async function quickchart(key) {\n",
              "      const quickchartButtonEl =\n",
              "        document.querySelector('#' + key + ' button');\n",
              "      quickchartButtonEl.disabled = true;  // To prevent multiple clicks.\n",
              "      quickchartButtonEl.classList.add('colab-df-spinner');\n",
              "      try {\n",
              "        const charts = await google.colab.kernel.invokeFunction(\n",
              "            'suggestCharts', [key], {});\n",
              "      } catch (error) {\n",
              "        console.error('Error during call to suggestCharts:', error);\n",
              "      }\n",
              "      quickchartButtonEl.classList.remove('colab-df-spinner');\n",
              "      quickchartButtonEl.classList.add('colab-df-quickchart-complete');\n",
              "    }\n",
              "    (() => {\n",
              "      let quickchartButtonEl =\n",
              "        document.querySelector('#df-9063f806-082d-4675-8596-aa62a38156b7 button');\n",
              "      quickchartButtonEl.style.display =\n",
              "        google.colab.kernel.accessAllowed ? 'block' : 'none';\n",
              "    })();\n",
              "  </script>\n",
              "</div>\n",
              "\n",
              "    </div>\n",
              "  </div>\n"
            ],
            "application/vnd.google.colaboratory.intrinsic+json": {
              "type": "dataframe",
              "variable_name": "df"
            }
          },
          "metadata": {},
          "execution_count": 3
        }
      ]
    },
    {
      "cell_type": "markdown",
      "source": [
        "We're loading the dataset and printing the first few rows to get an overview."
      ],
      "metadata": {
        "id": "fKFR2WucVH49"
      }
    },
    {
      "cell_type": "markdown",
      "source": [
        "# Step 3: Basic Dataset Exploration\n"
      ],
      "metadata": {
        "id": "jRuZ4LrIVWEw"
      }
    },
    {
      "cell_type": "code",
      "source": [
        "# Display the shape (rows, columns)\n",
        "print(\"Dataset shape:\", df.shape)"
      ],
      "metadata": {
        "colab": {
          "base_uri": "https://localhost:8080/"
        },
        "id": "gLETfjsnU_Mh",
        "outputId": "e0db78ba-043f-4bd4-edf6-75214b8a1e1d"
      },
      "execution_count": 6,
      "outputs": [
        {
          "output_type": "stream",
          "name": "stdout",
          "text": [
            "Dataset shape: (55692, 27)\n"
          ]
        }
      ]
    },
    {
      "cell_type": "code",
      "source": [
        "# Display column data types and non-null counts\n",
        "df.info()"
      ],
      "metadata": {
        "colab": {
          "base_uri": "https://localhost:8080/"
        },
        "id": "-7CbOinVVa-1",
        "outputId": "8b0f19dc-c721-4164-81ca-5a4c907d4df1"
      },
      "execution_count": 5,
      "outputs": [
        {
          "output_type": "stream",
          "name": "stdout",
          "text": [
            "<class 'pandas.core.frame.DataFrame'>\n",
            "RangeIndex: 55692 entries, 0 to 55691\n",
            "Data columns (total 27 columns):\n",
            " #   Column               Non-Null Count  Dtype  \n",
            "---  ------               --------------  -----  \n",
            " 0   ID                   55692 non-null  int64  \n",
            " 1   gender               55692 non-null  object \n",
            " 2   age                  55692 non-null  int64  \n",
            " 3   height(cm)           55692 non-null  int64  \n",
            " 4   weight(kg)           55692 non-null  int64  \n",
            " 5   waist(cm)            55692 non-null  float64\n",
            " 6   eyesight(left)       55692 non-null  float64\n",
            " 7   eyesight(right)      55692 non-null  float64\n",
            " 8   hearing(left)        55692 non-null  float64\n",
            " 9   hearing(right)       55692 non-null  float64\n",
            " 10  systolic             55692 non-null  float64\n",
            " 11  relaxation           55692 non-null  float64\n",
            " 12  fasting blood sugar  55692 non-null  float64\n",
            " 13  Cholesterol          55692 non-null  float64\n",
            " 14  triglyceride         55692 non-null  float64\n",
            " 15  HDL                  55692 non-null  float64\n",
            " 16  LDL                  55692 non-null  float64\n",
            " 17  hemoglobin           55692 non-null  float64\n",
            " 18  Urine protein        55692 non-null  float64\n",
            " 19  serum creatinine     55692 non-null  float64\n",
            " 20  AST                  55692 non-null  float64\n",
            " 21  ALT                  55692 non-null  float64\n",
            " 22  Gtp                  55692 non-null  float64\n",
            " 23  oral                 55692 non-null  object \n",
            " 24  dental caries        55692 non-null  int64  \n",
            " 25  tartar               55692 non-null  object \n",
            " 26  smoking              55692 non-null  int64  \n",
            "dtypes: float64(18), int64(6), object(3)\n",
            "memory usage: 11.5+ MB\n"
          ]
        }
      ]
    },
    {
      "cell_type": "code",
      "source": [
        "# Get statistical summary of numerical columns\n",
        "df.describe()"
      ],
      "metadata": {
        "colab": {
          "base_uri": "https://localhost:8080/",
          "height": 367
        },
        "id": "rPIXrhmKVhSr",
        "outputId": "a3eea4f0-16c3-4ef0-81b6-6cbbadf57ce0"
      },
      "execution_count": 7,
      "outputs": [
        {
          "output_type": "execute_result",
          "data": {
            "text/plain": [
              "                 ID           age    height(cm)    weight(kg)     waist(cm)  \\\n",
              "count  55692.000000  55692.000000  55692.000000  55692.000000  55692.000000   \n",
              "mean   27845.500000     44.182917    164.649321     65.864936     82.046418   \n",
              "std    16077.039933     12.071418      9.194597     12.820306      9.274223   \n",
              "min        0.000000     20.000000    130.000000     30.000000     51.000000   \n",
              "25%    13922.750000     40.000000    160.000000     55.000000     76.000000   \n",
              "50%    27845.500000     40.000000    165.000000     65.000000     82.000000   \n",
              "75%    41768.250000     55.000000    170.000000     75.000000     88.000000   \n",
              "max    55691.000000     85.000000    190.000000    135.000000    129.000000   \n",
              "\n",
              "       eyesight(left)  eyesight(right)  hearing(left)  hearing(right)  \\\n",
              "count    55692.000000     55692.000000   55692.000000    55692.000000   \n",
              "mean         1.012623         1.007443       1.025587        1.026144   \n",
              "std          0.486873         0.485964       0.157902        0.159564   \n",
              "min          0.100000         0.100000       1.000000        1.000000   \n",
              "25%          0.800000         0.800000       1.000000        1.000000   \n",
              "50%          1.000000         1.000000       1.000000        1.000000   \n",
              "75%          1.200000         1.200000       1.000000        1.000000   \n",
              "max          9.900000         9.900000       2.000000        2.000000   \n",
              "\n",
              "           systolic  ...           HDL           LDL    hemoglobin  \\\n",
              "count  55692.000000  ...  55692.000000  55692.000000  55692.000000   \n",
              "mean     121.494218  ...     57.290347    114.964501     14.622592   \n",
              "std       13.675989  ...     14.738963     40.926476      1.564498   \n",
              "min       71.000000  ...      4.000000      1.000000      4.900000   \n",
              "25%      112.000000  ...     47.000000     92.000000     13.600000   \n",
              "50%      120.000000  ...     55.000000    113.000000     14.800000   \n",
              "75%      130.000000  ...     66.000000    136.000000     15.800000   \n",
              "max      240.000000  ...    618.000000   1860.000000     21.100000   \n",
              "\n",
              "       Urine protein  serum creatinine           AST           ALT  \\\n",
              "count   55692.000000      55692.000000  55692.000000  55692.000000   \n",
              "mean        1.087212          0.885738     26.182935     27.036037   \n",
              "std         0.404882          0.221524     19.355460     30.947853   \n",
              "min         1.000000          0.100000      6.000000      1.000000   \n",
              "25%         1.000000          0.800000     19.000000     15.000000   \n",
              "50%         1.000000          0.900000     23.000000     21.000000   \n",
              "75%         1.000000          1.000000     28.000000     31.000000   \n",
              "max         6.000000         11.600000   1311.000000   2914.000000   \n",
              "\n",
              "                Gtp  dental caries       smoking  \n",
              "count  55692.000000   55692.000000  55692.000000  \n",
              "mean      39.952201       0.213334      0.367288  \n",
              "std       50.290539       0.409665      0.482070  \n",
              "min        1.000000       0.000000      0.000000  \n",
              "25%       17.000000       0.000000      0.000000  \n",
              "50%       25.000000       0.000000      0.000000  \n",
              "75%       43.000000       0.000000      1.000000  \n",
              "max      999.000000       1.000000      1.000000  \n",
              "\n",
              "[8 rows x 24 columns]"
            ],
            "text/html": [
              "\n",
              "  <div id=\"df-a34ec858-3741-496a-8953-438ca6844df5\" class=\"colab-df-container\">\n",
              "    <div>\n",
              "<style scoped>\n",
              "    .dataframe tbody tr th:only-of-type {\n",
              "        vertical-align: middle;\n",
              "    }\n",
              "\n",
              "    .dataframe tbody tr th {\n",
              "        vertical-align: top;\n",
              "    }\n",
              "\n",
              "    .dataframe thead th {\n",
              "        text-align: right;\n",
              "    }\n",
              "</style>\n",
              "<table border=\"1\" class=\"dataframe\">\n",
              "  <thead>\n",
              "    <tr style=\"text-align: right;\">\n",
              "      <th></th>\n",
              "      <th>ID</th>\n",
              "      <th>age</th>\n",
              "      <th>height(cm)</th>\n",
              "      <th>weight(kg)</th>\n",
              "      <th>waist(cm)</th>\n",
              "      <th>eyesight(left)</th>\n",
              "      <th>eyesight(right)</th>\n",
              "      <th>hearing(left)</th>\n",
              "      <th>hearing(right)</th>\n",
              "      <th>systolic</th>\n",
              "      <th>...</th>\n",
              "      <th>HDL</th>\n",
              "      <th>LDL</th>\n",
              "      <th>hemoglobin</th>\n",
              "      <th>Urine protein</th>\n",
              "      <th>serum creatinine</th>\n",
              "      <th>AST</th>\n",
              "      <th>ALT</th>\n",
              "      <th>Gtp</th>\n",
              "      <th>dental caries</th>\n",
              "      <th>smoking</th>\n",
              "    </tr>\n",
              "  </thead>\n",
              "  <tbody>\n",
              "    <tr>\n",
              "      <th>count</th>\n",
              "      <td>55692.000000</td>\n",
              "      <td>55692.000000</td>\n",
              "      <td>55692.000000</td>\n",
              "      <td>55692.000000</td>\n",
              "      <td>55692.000000</td>\n",
              "      <td>55692.000000</td>\n",
              "      <td>55692.000000</td>\n",
              "      <td>55692.000000</td>\n",
              "      <td>55692.000000</td>\n",
              "      <td>55692.000000</td>\n",
              "      <td>...</td>\n",
              "      <td>55692.000000</td>\n",
              "      <td>55692.000000</td>\n",
              "      <td>55692.000000</td>\n",
              "      <td>55692.000000</td>\n",
              "      <td>55692.000000</td>\n",
              "      <td>55692.000000</td>\n",
              "      <td>55692.000000</td>\n",
              "      <td>55692.000000</td>\n",
              "      <td>55692.000000</td>\n",
              "      <td>55692.000000</td>\n",
              "    </tr>\n",
              "    <tr>\n",
              "      <th>mean</th>\n",
              "      <td>27845.500000</td>\n",
              "      <td>44.182917</td>\n",
              "      <td>164.649321</td>\n",
              "      <td>65.864936</td>\n",
              "      <td>82.046418</td>\n",
              "      <td>1.012623</td>\n",
              "      <td>1.007443</td>\n",
              "      <td>1.025587</td>\n",
              "      <td>1.026144</td>\n",
              "      <td>121.494218</td>\n",
              "      <td>...</td>\n",
              "      <td>57.290347</td>\n",
              "      <td>114.964501</td>\n",
              "      <td>14.622592</td>\n",
              "      <td>1.087212</td>\n",
              "      <td>0.885738</td>\n",
              "      <td>26.182935</td>\n",
              "      <td>27.036037</td>\n",
              "      <td>39.952201</td>\n",
              "      <td>0.213334</td>\n",
              "      <td>0.367288</td>\n",
              "    </tr>\n",
              "    <tr>\n",
              "      <th>std</th>\n",
              "      <td>16077.039933</td>\n",
              "      <td>12.071418</td>\n",
              "      <td>9.194597</td>\n",
              "      <td>12.820306</td>\n",
              "      <td>9.274223</td>\n",
              "      <td>0.486873</td>\n",
              "      <td>0.485964</td>\n",
              "      <td>0.157902</td>\n",
              "      <td>0.159564</td>\n",
              "      <td>13.675989</td>\n",
              "      <td>...</td>\n",
              "      <td>14.738963</td>\n",
              "      <td>40.926476</td>\n",
              "      <td>1.564498</td>\n",
              "      <td>0.404882</td>\n",
              "      <td>0.221524</td>\n",
              "      <td>19.355460</td>\n",
              "      <td>30.947853</td>\n",
              "      <td>50.290539</td>\n",
              "      <td>0.409665</td>\n",
              "      <td>0.482070</td>\n",
              "    </tr>\n",
              "    <tr>\n",
              "      <th>min</th>\n",
              "      <td>0.000000</td>\n",
              "      <td>20.000000</td>\n",
              "      <td>130.000000</td>\n",
              "      <td>30.000000</td>\n",
              "      <td>51.000000</td>\n",
              "      <td>0.100000</td>\n",
              "      <td>0.100000</td>\n",
              "      <td>1.000000</td>\n",
              "      <td>1.000000</td>\n",
              "      <td>71.000000</td>\n",
              "      <td>...</td>\n",
              "      <td>4.000000</td>\n",
              "      <td>1.000000</td>\n",
              "      <td>4.900000</td>\n",
              "      <td>1.000000</td>\n",
              "      <td>0.100000</td>\n",
              "      <td>6.000000</td>\n",
              "      <td>1.000000</td>\n",
              "      <td>1.000000</td>\n",
              "      <td>0.000000</td>\n",
              "      <td>0.000000</td>\n",
              "    </tr>\n",
              "    <tr>\n",
              "      <th>25%</th>\n",
              "      <td>13922.750000</td>\n",
              "      <td>40.000000</td>\n",
              "      <td>160.000000</td>\n",
              "      <td>55.000000</td>\n",
              "      <td>76.000000</td>\n",
              "      <td>0.800000</td>\n",
              "      <td>0.800000</td>\n",
              "      <td>1.000000</td>\n",
              "      <td>1.000000</td>\n",
              "      <td>112.000000</td>\n",
              "      <td>...</td>\n",
              "      <td>47.000000</td>\n",
              "      <td>92.000000</td>\n",
              "      <td>13.600000</td>\n",
              "      <td>1.000000</td>\n",
              "      <td>0.800000</td>\n",
              "      <td>19.000000</td>\n",
              "      <td>15.000000</td>\n",
              "      <td>17.000000</td>\n",
              "      <td>0.000000</td>\n",
              "      <td>0.000000</td>\n",
              "    </tr>\n",
              "    <tr>\n",
              "      <th>50%</th>\n",
              "      <td>27845.500000</td>\n",
              "      <td>40.000000</td>\n",
              "      <td>165.000000</td>\n",
              "      <td>65.000000</td>\n",
              "      <td>82.000000</td>\n",
              "      <td>1.000000</td>\n",
              "      <td>1.000000</td>\n",
              "      <td>1.000000</td>\n",
              "      <td>1.000000</td>\n",
              "      <td>120.000000</td>\n",
              "      <td>...</td>\n",
              "      <td>55.000000</td>\n",
              "      <td>113.000000</td>\n",
              "      <td>14.800000</td>\n",
              "      <td>1.000000</td>\n",
              "      <td>0.900000</td>\n",
              "      <td>23.000000</td>\n",
              "      <td>21.000000</td>\n",
              "      <td>25.000000</td>\n",
              "      <td>0.000000</td>\n",
              "      <td>0.000000</td>\n",
              "    </tr>\n",
              "    <tr>\n",
              "      <th>75%</th>\n",
              "      <td>41768.250000</td>\n",
              "      <td>55.000000</td>\n",
              "      <td>170.000000</td>\n",
              "      <td>75.000000</td>\n",
              "      <td>88.000000</td>\n",
              "      <td>1.200000</td>\n",
              "      <td>1.200000</td>\n",
              "      <td>1.000000</td>\n",
              "      <td>1.000000</td>\n",
              "      <td>130.000000</td>\n",
              "      <td>...</td>\n",
              "      <td>66.000000</td>\n",
              "      <td>136.000000</td>\n",
              "      <td>15.800000</td>\n",
              "      <td>1.000000</td>\n",
              "      <td>1.000000</td>\n",
              "      <td>28.000000</td>\n",
              "      <td>31.000000</td>\n",
              "      <td>43.000000</td>\n",
              "      <td>0.000000</td>\n",
              "      <td>1.000000</td>\n",
              "    </tr>\n",
              "    <tr>\n",
              "      <th>max</th>\n",
              "      <td>55691.000000</td>\n",
              "      <td>85.000000</td>\n",
              "      <td>190.000000</td>\n",
              "      <td>135.000000</td>\n",
              "      <td>129.000000</td>\n",
              "      <td>9.900000</td>\n",
              "      <td>9.900000</td>\n",
              "      <td>2.000000</td>\n",
              "      <td>2.000000</td>\n",
              "      <td>240.000000</td>\n",
              "      <td>...</td>\n",
              "      <td>618.000000</td>\n",
              "      <td>1860.000000</td>\n",
              "      <td>21.100000</td>\n",
              "      <td>6.000000</td>\n",
              "      <td>11.600000</td>\n",
              "      <td>1311.000000</td>\n",
              "      <td>2914.000000</td>\n",
              "      <td>999.000000</td>\n",
              "      <td>1.000000</td>\n",
              "      <td>1.000000</td>\n",
              "    </tr>\n",
              "  </tbody>\n",
              "</table>\n",
              "<p>8 rows × 24 columns</p>\n",
              "</div>\n",
              "    <div class=\"colab-df-buttons\">\n",
              "\n",
              "  <div class=\"colab-df-container\">\n",
              "    <button class=\"colab-df-convert\" onclick=\"convertToInteractive('df-a34ec858-3741-496a-8953-438ca6844df5')\"\n",
              "            title=\"Convert this dataframe to an interactive table.\"\n",
              "            style=\"display:none;\">\n",
              "\n",
              "  <svg xmlns=\"http://www.w3.org/2000/svg\" height=\"24px\" viewBox=\"0 -960 960 960\">\n",
              "    <path d=\"M120-120v-720h720v720H120Zm60-500h600v-160H180v160Zm220 220h160v-160H400v160Zm0 220h160v-160H400v160ZM180-400h160v-160H180v160Zm440 0h160v-160H620v160ZM180-180h160v-160H180v160Zm440 0h160v-160H620v160Z\"/>\n",
              "  </svg>\n",
              "    </button>\n",
              "\n",
              "  <style>\n",
              "    .colab-df-container {\n",
              "      display:flex;\n",
              "      gap: 12px;\n",
              "    }\n",
              "\n",
              "    .colab-df-convert {\n",
              "      background-color: #E8F0FE;\n",
              "      border: none;\n",
              "      border-radius: 50%;\n",
              "      cursor: pointer;\n",
              "      display: none;\n",
              "      fill: #1967D2;\n",
              "      height: 32px;\n",
              "      padding: 0 0 0 0;\n",
              "      width: 32px;\n",
              "    }\n",
              "\n",
              "    .colab-df-convert:hover {\n",
              "      background-color: #E2EBFA;\n",
              "      box-shadow: 0px 1px 2px rgba(60, 64, 67, 0.3), 0px 1px 3px 1px rgba(60, 64, 67, 0.15);\n",
              "      fill: #174EA6;\n",
              "    }\n",
              "\n",
              "    .colab-df-buttons div {\n",
              "      margin-bottom: 4px;\n",
              "    }\n",
              "\n",
              "    [theme=dark] .colab-df-convert {\n",
              "      background-color: #3B4455;\n",
              "      fill: #D2E3FC;\n",
              "    }\n",
              "\n",
              "    [theme=dark] .colab-df-convert:hover {\n",
              "      background-color: #434B5C;\n",
              "      box-shadow: 0px 1px 3px 1px rgba(0, 0, 0, 0.15);\n",
              "      filter: drop-shadow(0px 1px 2px rgba(0, 0, 0, 0.3));\n",
              "      fill: #FFFFFF;\n",
              "    }\n",
              "  </style>\n",
              "\n",
              "    <script>\n",
              "      const buttonEl =\n",
              "        document.querySelector('#df-a34ec858-3741-496a-8953-438ca6844df5 button.colab-df-convert');\n",
              "      buttonEl.style.display =\n",
              "        google.colab.kernel.accessAllowed ? 'block' : 'none';\n",
              "\n",
              "      async function convertToInteractive(key) {\n",
              "        const element = document.querySelector('#df-a34ec858-3741-496a-8953-438ca6844df5');\n",
              "        const dataTable =\n",
              "          await google.colab.kernel.invokeFunction('convertToInteractive',\n",
              "                                                    [key], {});\n",
              "        if (!dataTable) return;\n",
              "\n",
              "        const docLinkHtml = 'Like what you see? Visit the ' +\n",
              "          '<a target=\"_blank\" href=https://colab.research.google.com/notebooks/data_table.ipynb>data table notebook</a>'\n",
              "          + ' to learn more about interactive tables.';\n",
              "        element.innerHTML = '';\n",
              "        dataTable['output_type'] = 'display_data';\n",
              "        await google.colab.output.renderOutput(dataTable, element);\n",
              "        const docLink = document.createElement('div');\n",
              "        docLink.innerHTML = docLinkHtml;\n",
              "        element.appendChild(docLink);\n",
              "      }\n",
              "    </script>\n",
              "  </div>\n",
              "\n",
              "\n",
              "<div id=\"df-0263a84c-5c38-4616-ad22-f52d8a45dd25\">\n",
              "  <button class=\"colab-df-quickchart\" onclick=\"quickchart('df-0263a84c-5c38-4616-ad22-f52d8a45dd25')\"\n",
              "            title=\"Suggest charts\"\n",
              "            style=\"display:none;\">\n",
              "\n",
              "<svg xmlns=\"http://www.w3.org/2000/svg\" height=\"24px\"viewBox=\"0 0 24 24\"\n",
              "     width=\"24px\">\n",
              "    <g>\n",
              "        <path d=\"M19 3H5c-1.1 0-2 .9-2 2v14c0 1.1.9 2 2 2h14c1.1 0 2-.9 2-2V5c0-1.1-.9-2-2-2zM9 17H7v-7h2v7zm4 0h-2V7h2v10zm4 0h-2v-4h2v4z\"/>\n",
              "    </g>\n",
              "</svg>\n",
              "  </button>\n",
              "\n",
              "<style>\n",
              "  .colab-df-quickchart {\n",
              "      --bg-color: #E8F0FE;\n",
              "      --fill-color: #1967D2;\n",
              "      --hover-bg-color: #E2EBFA;\n",
              "      --hover-fill-color: #174EA6;\n",
              "      --disabled-fill-color: #AAA;\n",
              "      --disabled-bg-color: #DDD;\n",
              "  }\n",
              "\n",
              "  [theme=dark] .colab-df-quickchart {\n",
              "      --bg-color: #3B4455;\n",
              "      --fill-color: #D2E3FC;\n",
              "      --hover-bg-color: #434B5C;\n",
              "      --hover-fill-color: #FFFFFF;\n",
              "      --disabled-bg-color: #3B4455;\n",
              "      --disabled-fill-color: #666;\n",
              "  }\n",
              "\n",
              "  .colab-df-quickchart {\n",
              "    background-color: var(--bg-color);\n",
              "    border: none;\n",
              "    border-radius: 50%;\n",
              "    cursor: pointer;\n",
              "    display: none;\n",
              "    fill: var(--fill-color);\n",
              "    height: 32px;\n",
              "    padding: 0;\n",
              "    width: 32px;\n",
              "  }\n",
              "\n",
              "  .colab-df-quickchart:hover {\n",
              "    background-color: var(--hover-bg-color);\n",
              "    box-shadow: 0 1px 2px rgba(60, 64, 67, 0.3), 0 1px 3px 1px rgba(60, 64, 67, 0.15);\n",
              "    fill: var(--button-hover-fill-color);\n",
              "  }\n",
              "\n",
              "  .colab-df-quickchart-complete:disabled,\n",
              "  .colab-df-quickchart-complete:disabled:hover {\n",
              "    background-color: var(--disabled-bg-color);\n",
              "    fill: var(--disabled-fill-color);\n",
              "    box-shadow: none;\n",
              "  }\n",
              "\n",
              "  .colab-df-spinner {\n",
              "    border: 2px solid var(--fill-color);\n",
              "    border-color: transparent;\n",
              "    border-bottom-color: var(--fill-color);\n",
              "    animation:\n",
              "      spin 1s steps(1) infinite;\n",
              "  }\n",
              "\n",
              "  @keyframes spin {\n",
              "    0% {\n",
              "      border-color: transparent;\n",
              "      border-bottom-color: var(--fill-color);\n",
              "      border-left-color: var(--fill-color);\n",
              "    }\n",
              "    20% {\n",
              "      border-color: transparent;\n",
              "      border-left-color: var(--fill-color);\n",
              "      border-top-color: var(--fill-color);\n",
              "    }\n",
              "    30% {\n",
              "      border-color: transparent;\n",
              "      border-left-color: var(--fill-color);\n",
              "      border-top-color: var(--fill-color);\n",
              "      border-right-color: var(--fill-color);\n",
              "    }\n",
              "    40% {\n",
              "      border-color: transparent;\n",
              "      border-right-color: var(--fill-color);\n",
              "      border-top-color: var(--fill-color);\n",
              "    }\n",
              "    60% {\n",
              "      border-color: transparent;\n",
              "      border-right-color: var(--fill-color);\n",
              "    }\n",
              "    80% {\n",
              "      border-color: transparent;\n",
              "      border-right-color: var(--fill-color);\n",
              "      border-bottom-color: var(--fill-color);\n",
              "    }\n",
              "    90% {\n",
              "      border-color: transparent;\n",
              "      border-bottom-color: var(--fill-color);\n",
              "    }\n",
              "  }\n",
              "</style>\n",
              "\n",
              "  <script>\n",
              "    async function quickchart(key) {\n",
              "      const quickchartButtonEl =\n",
              "        document.querySelector('#' + key + ' button');\n",
              "      quickchartButtonEl.disabled = true;  // To prevent multiple clicks.\n",
              "      quickchartButtonEl.classList.add('colab-df-spinner');\n",
              "      try {\n",
              "        const charts = await google.colab.kernel.invokeFunction(\n",
              "            'suggestCharts', [key], {});\n",
              "      } catch (error) {\n",
              "        console.error('Error during call to suggestCharts:', error);\n",
              "      }\n",
              "      quickchartButtonEl.classList.remove('colab-df-spinner');\n",
              "      quickchartButtonEl.classList.add('colab-df-quickchart-complete');\n",
              "    }\n",
              "    (() => {\n",
              "      let quickchartButtonEl =\n",
              "        document.querySelector('#df-0263a84c-5c38-4616-ad22-f52d8a45dd25 button');\n",
              "      quickchartButtonEl.style.display =\n",
              "        google.colab.kernel.accessAllowed ? 'block' : 'none';\n",
              "    })();\n",
              "  </script>\n",
              "</div>\n",
              "\n",
              "    </div>\n",
              "  </div>\n"
            ],
            "application/vnd.google.colaboratory.intrinsic+json": {
              "type": "dataframe"
            }
          },
          "metadata": {},
          "execution_count": 7
        }
      ]
    },
    {
      "cell_type": "markdown",
      "source": [
        "Explanation:\n",
        "\n",
        "- df.shape gives the number of rows and columns.\n",
        "\n",
        "- df.info() shows types of data and any missing values.\n",
        "\n",
        "- df.describe() helps identify value distributions and outliers."
      ],
      "metadata": {
        "id": "1WctOIsXVrZ7"
      }
    },
    {
      "cell_type": "markdown",
      "source": [
        "# Step 4: Drop Irrelevant Columns"
      ],
      "metadata": {
        "id": "DvYQ5vqSVxRK"
      }
    },
    {
      "cell_type": "code",
      "source": [
        "df = pd.read_csv(\"/content/drive/MyDrive/Intellipaat Colab Files/Bio Signal Analysis/smoking.csv\")\n",
        "\n",
        "# Drop the ID column as it's just an index\n",
        "df.drop(columns=['ID'], inplace=True)\n",
        "\n",
        "# The ID column is not useful for prediction, so we remove it."
      ],
      "metadata": {
        "id": "oNJKOlV1Vnmk"
      },
      "execution_count": 11,
      "outputs": []
    },
    {
      "cell_type": "code",
      "source": [
        "df.head()"
      ],
      "metadata": {
        "colab": {
          "base_uri": "https://localhost:8080/",
          "height": 273
        },
        "id": "8ZzVNrq7V8Tx",
        "outputId": "95d13d19-d0d8-4185-c1a4-30f353b05e8b"
      },
      "execution_count": 12,
      "outputs": [
        {
          "output_type": "execute_result",
          "data": {
            "text/plain": [
              "  gender  age  height(cm)  weight(kg)  waist(cm)  eyesight(left)  \\\n",
              "0      F   40         155          60       81.3             1.2   \n",
              "1      F   40         160          60       81.0             0.8   \n",
              "2      M   55         170          60       80.0             0.8   \n",
              "3      M   40         165          70       88.0             1.5   \n",
              "4      F   40         155          60       86.0             1.0   \n",
              "\n",
              "   eyesight(right)  hearing(left)  hearing(right)  systolic  ...  hemoglobin  \\\n",
              "0              1.0            1.0             1.0     114.0  ...        12.9   \n",
              "1              0.6            1.0             1.0     119.0  ...        12.7   \n",
              "2              0.8            1.0             1.0     138.0  ...        15.8   \n",
              "3              1.5            1.0             1.0     100.0  ...        14.7   \n",
              "4              1.0            1.0             1.0     120.0  ...        12.5   \n",
              "\n",
              "   Urine protein  serum creatinine   AST   ALT   Gtp  oral  dental caries  \\\n",
              "0            1.0               0.7  18.0  19.0  27.0     Y              0   \n",
              "1            1.0               0.6  22.0  19.0  18.0     Y              0   \n",
              "2            1.0               1.0  21.0  16.0  22.0     Y              0   \n",
              "3            1.0               1.0  19.0  26.0  18.0     Y              0   \n",
              "4            1.0               0.6  16.0  14.0  22.0     Y              0   \n",
              "\n",
              "   tartar  smoking  \n",
              "0       Y        0  \n",
              "1       Y        0  \n",
              "2       N        1  \n",
              "3       Y        0  \n",
              "4       N        0  \n",
              "\n",
              "[5 rows x 26 columns]"
            ],
            "text/html": [
              "\n",
              "  <div id=\"df-927441cd-a3d6-47b7-affe-84a1dfc4c896\" class=\"colab-df-container\">\n",
              "    <div>\n",
              "<style scoped>\n",
              "    .dataframe tbody tr th:only-of-type {\n",
              "        vertical-align: middle;\n",
              "    }\n",
              "\n",
              "    .dataframe tbody tr th {\n",
              "        vertical-align: top;\n",
              "    }\n",
              "\n",
              "    .dataframe thead th {\n",
              "        text-align: right;\n",
              "    }\n",
              "</style>\n",
              "<table border=\"1\" class=\"dataframe\">\n",
              "  <thead>\n",
              "    <tr style=\"text-align: right;\">\n",
              "      <th></th>\n",
              "      <th>gender</th>\n",
              "      <th>age</th>\n",
              "      <th>height(cm)</th>\n",
              "      <th>weight(kg)</th>\n",
              "      <th>waist(cm)</th>\n",
              "      <th>eyesight(left)</th>\n",
              "      <th>eyesight(right)</th>\n",
              "      <th>hearing(left)</th>\n",
              "      <th>hearing(right)</th>\n",
              "      <th>systolic</th>\n",
              "      <th>...</th>\n",
              "      <th>hemoglobin</th>\n",
              "      <th>Urine protein</th>\n",
              "      <th>serum creatinine</th>\n",
              "      <th>AST</th>\n",
              "      <th>ALT</th>\n",
              "      <th>Gtp</th>\n",
              "      <th>oral</th>\n",
              "      <th>dental caries</th>\n",
              "      <th>tartar</th>\n",
              "      <th>smoking</th>\n",
              "    </tr>\n",
              "  </thead>\n",
              "  <tbody>\n",
              "    <tr>\n",
              "      <th>0</th>\n",
              "      <td>F</td>\n",
              "      <td>40</td>\n",
              "      <td>155</td>\n",
              "      <td>60</td>\n",
              "      <td>81.3</td>\n",
              "      <td>1.2</td>\n",
              "      <td>1.0</td>\n",
              "      <td>1.0</td>\n",
              "      <td>1.0</td>\n",
              "      <td>114.0</td>\n",
              "      <td>...</td>\n",
              "      <td>12.9</td>\n",
              "      <td>1.0</td>\n",
              "      <td>0.7</td>\n",
              "      <td>18.0</td>\n",
              "      <td>19.0</td>\n",
              "      <td>27.0</td>\n",
              "      <td>Y</td>\n",
              "      <td>0</td>\n",
              "      <td>Y</td>\n",
              "      <td>0</td>\n",
              "    </tr>\n",
              "    <tr>\n",
              "      <th>1</th>\n",
              "      <td>F</td>\n",
              "      <td>40</td>\n",
              "      <td>160</td>\n",
              "      <td>60</td>\n",
              "      <td>81.0</td>\n",
              "      <td>0.8</td>\n",
              "      <td>0.6</td>\n",
              "      <td>1.0</td>\n",
              "      <td>1.0</td>\n",
              "      <td>119.0</td>\n",
              "      <td>...</td>\n",
              "      <td>12.7</td>\n",
              "      <td>1.0</td>\n",
              "      <td>0.6</td>\n",
              "      <td>22.0</td>\n",
              "      <td>19.0</td>\n",
              "      <td>18.0</td>\n",
              "      <td>Y</td>\n",
              "      <td>0</td>\n",
              "      <td>Y</td>\n",
              "      <td>0</td>\n",
              "    </tr>\n",
              "    <tr>\n",
              "      <th>2</th>\n",
              "      <td>M</td>\n",
              "      <td>55</td>\n",
              "      <td>170</td>\n",
              "      <td>60</td>\n",
              "      <td>80.0</td>\n",
              "      <td>0.8</td>\n",
              "      <td>0.8</td>\n",
              "      <td>1.0</td>\n",
              "      <td>1.0</td>\n",
              "      <td>138.0</td>\n",
              "      <td>...</td>\n",
              "      <td>15.8</td>\n",
              "      <td>1.0</td>\n",
              "      <td>1.0</td>\n",
              "      <td>21.0</td>\n",
              "      <td>16.0</td>\n",
              "      <td>22.0</td>\n",
              "      <td>Y</td>\n",
              "      <td>0</td>\n",
              "      <td>N</td>\n",
              "      <td>1</td>\n",
              "    </tr>\n",
              "    <tr>\n",
              "      <th>3</th>\n",
              "      <td>M</td>\n",
              "      <td>40</td>\n",
              "      <td>165</td>\n",
              "      <td>70</td>\n",
              "      <td>88.0</td>\n",
              "      <td>1.5</td>\n",
              "      <td>1.5</td>\n",
              "      <td>1.0</td>\n",
              "      <td>1.0</td>\n",
              "      <td>100.0</td>\n",
              "      <td>...</td>\n",
              "      <td>14.7</td>\n",
              "      <td>1.0</td>\n",
              "      <td>1.0</td>\n",
              "      <td>19.0</td>\n",
              "      <td>26.0</td>\n",
              "      <td>18.0</td>\n",
              "      <td>Y</td>\n",
              "      <td>0</td>\n",
              "      <td>Y</td>\n",
              "      <td>0</td>\n",
              "    </tr>\n",
              "    <tr>\n",
              "      <th>4</th>\n",
              "      <td>F</td>\n",
              "      <td>40</td>\n",
              "      <td>155</td>\n",
              "      <td>60</td>\n",
              "      <td>86.0</td>\n",
              "      <td>1.0</td>\n",
              "      <td>1.0</td>\n",
              "      <td>1.0</td>\n",
              "      <td>1.0</td>\n",
              "      <td>120.0</td>\n",
              "      <td>...</td>\n",
              "      <td>12.5</td>\n",
              "      <td>1.0</td>\n",
              "      <td>0.6</td>\n",
              "      <td>16.0</td>\n",
              "      <td>14.0</td>\n",
              "      <td>22.0</td>\n",
              "      <td>Y</td>\n",
              "      <td>0</td>\n",
              "      <td>N</td>\n",
              "      <td>0</td>\n",
              "    </tr>\n",
              "  </tbody>\n",
              "</table>\n",
              "<p>5 rows × 26 columns</p>\n",
              "</div>\n",
              "    <div class=\"colab-df-buttons\">\n",
              "\n",
              "  <div class=\"colab-df-container\">\n",
              "    <button class=\"colab-df-convert\" onclick=\"convertToInteractive('df-927441cd-a3d6-47b7-affe-84a1dfc4c896')\"\n",
              "            title=\"Convert this dataframe to an interactive table.\"\n",
              "            style=\"display:none;\">\n",
              "\n",
              "  <svg xmlns=\"http://www.w3.org/2000/svg\" height=\"24px\" viewBox=\"0 -960 960 960\">\n",
              "    <path d=\"M120-120v-720h720v720H120Zm60-500h600v-160H180v160Zm220 220h160v-160H400v160Zm0 220h160v-160H400v160ZM180-400h160v-160H180v160Zm440 0h160v-160H620v160ZM180-180h160v-160H180v160Zm440 0h160v-160H620v160Z\"/>\n",
              "  </svg>\n",
              "    </button>\n",
              "\n",
              "  <style>\n",
              "    .colab-df-container {\n",
              "      display:flex;\n",
              "      gap: 12px;\n",
              "    }\n",
              "\n",
              "    .colab-df-convert {\n",
              "      background-color: #E8F0FE;\n",
              "      border: none;\n",
              "      border-radius: 50%;\n",
              "      cursor: pointer;\n",
              "      display: none;\n",
              "      fill: #1967D2;\n",
              "      height: 32px;\n",
              "      padding: 0 0 0 0;\n",
              "      width: 32px;\n",
              "    }\n",
              "\n",
              "    .colab-df-convert:hover {\n",
              "      background-color: #E2EBFA;\n",
              "      box-shadow: 0px 1px 2px rgba(60, 64, 67, 0.3), 0px 1px 3px 1px rgba(60, 64, 67, 0.15);\n",
              "      fill: #174EA6;\n",
              "    }\n",
              "\n",
              "    .colab-df-buttons div {\n",
              "      margin-bottom: 4px;\n",
              "    }\n",
              "\n",
              "    [theme=dark] .colab-df-convert {\n",
              "      background-color: #3B4455;\n",
              "      fill: #D2E3FC;\n",
              "    }\n",
              "\n",
              "    [theme=dark] .colab-df-convert:hover {\n",
              "      background-color: #434B5C;\n",
              "      box-shadow: 0px 1px 3px 1px rgba(0, 0, 0, 0.15);\n",
              "      filter: drop-shadow(0px 1px 2px rgba(0, 0, 0, 0.3));\n",
              "      fill: #FFFFFF;\n",
              "    }\n",
              "  </style>\n",
              "\n",
              "    <script>\n",
              "      const buttonEl =\n",
              "        document.querySelector('#df-927441cd-a3d6-47b7-affe-84a1dfc4c896 button.colab-df-convert');\n",
              "      buttonEl.style.display =\n",
              "        google.colab.kernel.accessAllowed ? 'block' : 'none';\n",
              "\n",
              "      async function convertToInteractive(key) {\n",
              "        const element = document.querySelector('#df-927441cd-a3d6-47b7-affe-84a1dfc4c896');\n",
              "        const dataTable =\n",
              "          await google.colab.kernel.invokeFunction('convertToInteractive',\n",
              "                                                    [key], {});\n",
              "        if (!dataTable) return;\n",
              "\n",
              "        const docLinkHtml = 'Like what you see? Visit the ' +\n",
              "          '<a target=\"_blank\" href=https://colab.research.google.com/notebooks/data_table.ipynb>data table notebook</a>'\n",
              "          + ' to learn more about interactive tables.';\n",
              "        element.innerHTML = '';\n",
              "        dataTable['output_type'] = 'display_data';\n",
              "        await google.colab.output.renderOutput(dataTable, element);\n",
              "        const docLink = document.createElement('div');\n",
              "        docLink.innerHTML = docLinkHtml;\n",
              "        element.appendChild(docLink);\n",
              "      }\n",
              "    </script>\n",
              "  </div>\n",
              "\n",
              "\n",
              "<div id=\"df-eb1afd8f-f081-43d2-8743-da517a634dd2\">\n",
              "  <button class=\"colab-df-quickchart\" onclick=\"quickchart('df-eb1afd8f-f081-43d2-8743-da517a634dd2')\"\n",
              "            title=\"Suggest charts\"\n",
              "            style=\"display:none;\">\n",
              "\n",
              "<svg xmlns=\"http://www.w3.org/2000/svg\" height=\"24px\"viewBox=\"0 0 24 24\"\n",
              "     width=\"24px\">\n",
              "    <g>\n",
              "        <path d=\"M19 3H5c-1.1 0-2 .9-2 2v14c0 1.1.9 2 2 2h14c1.1 0 2-.9 2-2V5c0-1.1-.9-2-2-2zM9 17H7v-7h2v7zm4 0h-2V7h2v10zm4 0h-2v-4h2v4z\"/>\n",
              "    </g>\n",
              "</svg>\n",
              "  </button>\n",
              "\n",
              "<style>\n",
              "  .colab-df-quickchart {\n",
              "      --bg-color: #E8F0FE;\n",
              "      --fill-color: #1967D2;\n",
              "      --hover-bg-color: #E2EBFA;\n",
              "      --hover-fill-color: #174EA6;\n",
              "      --disabled-fill-color: #AAA;\n",
              "      --disabled-bg-color: #DDD;\n",
              "  }\n",
              "\n",
              "  [theme=dark] .colab-df-quickchart {\n",
              "      --bg-color: #3B4455;\n",
              "      --fill-color: #D2E3FC;\n",
              "      --hover-bg-color: #434B5C;\n",
              "      --hover-fill-color: #FFFFFF;\n",
              "      --disabled-bg-color: #3B4455;\n",
              "      --disabled-fill-color: #666;\n",
              "  }\n",
              "\n",
              "  .colab-df-quickchart {\n",
              "    background-color: var(--bg-color);\n",
              "    border: none;\n",
              "    border-radius: 50%;\n",
              "    cursor: pointer;\n",
              "    display: none;\n",
              "    fill: var(--fill-color);\n",
              "    height: 32px;\n",
              "    padding: 0;\n",
              "    width: 32px;\n",
              "  }\n",
              "\n",
              "  .colab-df-quickchart:hover {\n",
              "    background-color: var(--hover-bg-color);\n",
              "    box-shadow: 0 1px 2px rgba(60, 64, 67, 0.3), 0 1px 3px 1px rgba(60, 64, 67, 0.15);\n",
              "    fill: var(--button-hover-fill-color);\n",
              "  }\n",
              "\n",
              "  .colab-df-quickchart-complete:disabled,\n",
              "  .colab-df-quickchart-complete:disabled:hover {\n",
              "    background-color: var(--disabled-bg-color);\n",
              "    fill: var(--disabled-fill-color);\n",
              "    box-shadow: none;\n",
              "  }\n",
              "\n",
              "  .colab-df-spinner {\n",
              "    border: 2px solid var(--fill-color);\n",
              "    border-color: transparent;\n",
              "    border-bottom-color: var(--fill-color);\n",
              "    animation:\n",
              "      spin 1s steps(1) infinite;\n",
              "  }\n",
              "\n",
              "  @keyframes spin {\n",
              "    0% {\n",
              "      border-color: transparent;\n",
              "      border-bottom-color: var(--fill-color);\n",
              "      border-left-color: var(--fill-color);\n",
              "    }\n",
              "    20% {\n",
              "      border-color: transparent;\n",
              "      border-left-color: var(--fill-color);\n",
              "      border-top-color: var(--fill-color);\n",
              "    }\n",
              "    30% {\n",
              "      border-color: transparent;\n",
              "      border-left-color: var(--fill-color);\n",
              "      border-top-color: var(--fill-color);\n",
              "      border-right-color: var(--fill-color);\n",
              "    }\n",
              "    40% {\n",
              "      border-color: transparent;\n",
              "      border-right-color: var(--fill-color);\n",
              "      border-top-color: var(--fill-color);\n",
              "    }\n",
              "    60% {\n",
              "      border-color: transparent;\n",
              "      border-right-color: var(--fill-color);\n",
              "    }\n",
              "    80% {\n",
              "      border-color: transparent;\n",
              "      border-right-color: var(--fill-color);\n",
              "      border-bottom-color: var(--fill-color);\n",
              "    }\n",
              "    90% {\n",
              "      border-color: transparent;\n",
              "      border-bottom-color: var(--fill-color);\n",
              "    }\n",
              "  }\n",
              "</style>\n",
              "\n",
              "  <script>\n",
              "    async function quickchart(key) {\n",
              "      const quickchartButtonEl =\n",
              "        document.querySelector('#' + key + ' button');\n",
              "      quickchartButtonEl.disabled = true;  // To prevent multiple clicks.\n",
              "      quickchartButtonEl.classList.add('colab-df-spinner');\n",
              "      try {\n",
              "        const charts = await google.colab.kernel.invokeFunction(\n",
              "            'suggestCharts', [key], {});\n",
              "      } catch (error) {\n",
              "        console.error('Error during call to suggestCharts:', error);\n",
              "      }\n",
              "      quickchartButtonEl.classList.remove('colab-df-spinner');\n",
              "      quickchartButtonEl.classList.add('colab-df-quickchart-complete');\n",
              "    }\n",
              "    (() => {\n",
              "      let quickchartButtonEl =\n",
              "        document.querySelector('#df-eb1afd8f-f081-43d2-8743-da517a634dd2 button');\n",
              "      quickchartButtonEl.style.display =\n",
              "        google.colab.kernel.accessAllowed ? 'block' : 'none';\n",
              "    })();\n",
              "  </script>\n",
              "</div>\n",
              "\n",
              "    </div>\n",
              "  </div>\n"
            ],
            "application/vnd.google.colaboratory.intrinsic+json": {
              "type": "dataframe",
              "variable_name": "df"
            }
          },
          "metadata": {},
          "execution_count": 12
        }
      ]
    },
    {
      "cell_type": "markdown",
      "source": [
        "# Step 5: Check and Handle Missing Values\n"
      ],
      "metadata": {
        "id": "Sn-V19rBWgRH"
      }
    },
    {
      "cell_type": "code",
      "source": [
        "# Check for missing values\n",
        "missing = df.isnull().sum()\n",
        "print(\"Missing values in each column:\\n\", missing)\n"
      ],
      "metadata": {
        "colab": {
          "base_uri": "https://localhost:8080/"
        },
        "id": "PQhhmWKNWO4z",
        "outputId": "279989f8-9a60-4252-bee2-a585bf501fb8"
      },
      "execution_count": 13,
      "outputs": [
        {
          "output_type": "stream",
          "name": "stdout",
          "text": [
            "Missing values in each column:\n",
            " gender                 0\n",
            "age                    0\n",
            "height(cm)             0\n",
            "weight(kg)             0\n",
            "waist(cm)              0\n",
            "eyesight(left)         0\n",
            "eyesight(right)        0\n",
            "hearing(left)          0\n",
            "hearing(right)         0\n",
            "systolic               0\n",
            "relaxation             0\n",
            "fasting blood sugar    0\n",
            "Cholesterol            0\n",
            "triglyceride           0\n",
            "HDL                    0\n",
            "LDL                    0\n",
            "hemoglobin             0\n",
            "Urine protein          0\n",
            "serum creatinine       0\n",
            "AST                    0\n",
            "ALT                    0\n",
            "Gtp                    0\n",
            "oral                   0\n",
            "dental caries          0\n",
            "tartar                 0\n",
            "smoking                0\n",
            "dtype: int64\n"
          ]
        }
      ]
    },
    {
      "cell_type": "markdown",
      "source": [
        "This identifies if any values are missing. We’ll decide whether to fill or drop based on results (none are missing in this dataset)."
      ],
      "metadata": {
        "id": "m-bxZYeaWnfz"
      }
    },
    {
      "cell_type": "markdown",
      "source": [
        "# Step 6: Exploratory Data Analysis (EDA)\n",
        "\n",
        "6.1 Gender vs Smoking"
      ],
      "metadata": {
        "id": "Y1kfKy3UWqxT"
      }
    },
    {
      "cell_type": "code",
      "source": [
        "sns.barplot(data=df, x='gender', y='smoking')\n",
        "plt.title(\"Smoking Distribution by Gender\")\n",
        "plt.show()"
      ],
      "metadata": {
        "colab": {
          "base_uri": "https://localhost:8080/",
          "height": 472
        },
        "id": "Akj8HM69XFal",
        "outputId": "56218c0c-06ac-4730-d7c4-ca49e747657b"
      },
      "execution_count": 15,
      "outputs": [
        {
          "output_type": "display_data",
          "data": {
            "text/plain": [
              "<Figure size 640x480 with 1 Axes>"
            ],
            "image/png": "[encoded data removed]"
          },
          "metadata": {}
        }
      ]
    },
    {
      "cell_type": "code",
      "source": [
        "sns.countplot(data=df, x='gender', hue='smoking')\n",
        "plt.title(\"Smoking Distribution by Gender\")\n",
        "plt.show()\n"
      ],
      "metadata": {
        "colab": {
          "base_uri": "https://localhost:8080/",
          "height": 472
        },
        "id": "uA4kj1WuW2rK",
        "outputId": "c42e967c-c64a-444a-de00-ca5989e0e0ab"
      },
      "execution_count": 14,
      "outputs": [
        {
          "output_type": "display_data",
          "data": {
            "text/plain": [
              "<Figure size 640x480 with 1 Axes>"
            ],
            "image/png": "[encoded data removed]"
          },
          "metadata": {}
        }
      ]
    },
    {
      "cell_type": "markdown",
      "source": [
        "- Visualizes how smoking behavior differs between males and females.\n",
        "\n",
        "- We can clearly see from the below graph that most smokers are men.\n",
        "\n",
        "6.2 Smoking Percentage\n"
      ],
      "metadata": {
        "id": "pykM8Pu7W9BV"
      }
    },
    {
      "cell_type": "code",
      "source": [
        "smoke_percent = df['smoking'].value_counts(normalize=True) * 100\n",
        "print(\"Smoking percentage:\\n\", smoke_percent)\n",
        "\n",
        "#Calculates and prints the percentage of smokers vs non-smokers."
      ],
      "metadata": {
        "colab": {
          "base_uri": "https://localhost:8080/"
        },
        "id": "I6xg1TQQXnmj",
        "outputId": "f56d8e9c-e80b-4d39-f502-c0e9a383cfa8"
      },
      "execution_count": 16,
      "outputs": [
        {
          "output_type": "stream",
          "name": "stdout",
          "text": [
            "Smoking percentage:\n",
            " smoking\n",
            "0    63.271206\n",
            "1    36.728794\n",
            "Name: proportion, dtype: float64\n"
          ]
        }
      ]
    },
    {
      "cell_type": "code",
      "source": [
        "plt.figure(figsize=(6, 6))\n",
        "plt.pie(smoke_percent, labels=smoke_percent.index, autopct='%1.1f%%', startangle=90)\n",
        "plt.title(\"Smoking Percentage\")\n",
        "plt.show()"
      ],
      "metadata": {
        "colab": {
          "base_uri": "https://localhost:8080/",
          "height": 521
        },
        "id": "cEC9BjoYXpn1",
        "outputId": "7b0fe68f-aba9-4335-a7fd-763215b06b09"
      },
      "execution_count": 17,
      "outputs": [
        {
          "output_type": "display_data",
          "data": {
            "text/plain": [
              "<Figure size 600x600 with 1 Axes>"
            ],
            "image/png": "[encoded data removed]"
          },
          "metadata": {}
        }
      ]
    },
    {
      "cell_type": "markdown",
      "source": [
        "There are 36.73 percent of the people who are smoking ciggarette.\n",
        "\n",
        "6.3 Age vs Smoking\n"
      ],
      "metadata": {
        "id": "F9VN8lqOX5E0"
      }
    },
    {
      "cell_type": "code",
      "source": [
        "sns.countplot(data=df, x='age', hue='smoking')\n",
        "plt.title(\"Smoking Distribution by Age\")\n",
        "plt.xticks(rotation=45)\n",
        "plt.show()\n",
        "\n",
        "# Identifies age groups with higher smoking rates.\n"
      ],
      "metadata": {
        "colab": {
          "base_uri": "https://localhost:8080/",
          "height": 480
        },
        "id": "wdZk7WvWXzba",
        "outputId": "10ae9451-91a2-407d-9ed1-0b4f33e66221"
      },
      "execution_count": 18,
      "outputs": [
        {
          "output_type": "display_data",
          "data": {
            "text/plain": [
              "<Figure size 640x480 with 1 Axes>"
            ],
            "image/png": "[encoded data removed]"
          },
          "metadata": {}
        }
      ]
    },
    {
      "cell_type": "markdown",
      "source": [
        "Most number of smokers are having the age 40\n",
        "\n",
        "6.4 Outlier Detection (Boxplots)\n"
      ],
      "metadata": {
        "id": "upnr0fq2YQtS"
      }
    },
    {
      "cell_type": "code",
      "source": [
        "# Get all numerical feature names except 'smoking'\n",
        "numerical_cols = df.select_dtypes(include=np.number).columns.tolist()\n",
        "numerical_cols.remove('smoking')\n",
        "\n",
        "# Plot boxplots for all numeric features\n",
        "plt.figure(figsize=(15, 20))\n",
        "for i, col in enumerate(numerical_cols):\n",
        "    plt.subplot(6, 4, i+1)\n",
        "    sns.boxplot(x=df[col])\n",
        "    plt.title(col)\n",
        "plt.tight_layout()\n",
        "plt.show()\n"
      ],
      "metadata": {
        "colab": {
          "base_uri": "https://localhost:8080/",
          "height": 1000
        },
        "id": "Ef5zYWVuYDoE",
        "outputId": "6bcca78d-df1d-4c82-a61f-4c972057e568"
      },
      "execution_count": 19,
      "outputs": [
        {
          "output_type": "display_data",
          "data": {
            "text/plain": [
              "<Figure size 1500x2000 with 22 Axes>"
            ],
            "image/png": "[encoded data removed]"
          },
          "metadata": {}
        }
      ]
    },
    {
      "cell_type": "markdown",
      "source": [
        "- Representation of columns using boxplot to detect outliers.\n",
        "- Here outliers represent natural\n",
        "variations in the population, and they should be left as is in the dataset.\n",
        "\n",
        "- These are called true\n",
        "outliers. Therefore for this dataset we will not remove outliers.\n",
        "\n",
        "Boxplots show outliers, which we won’t remove since they are meaningful in health data."
      ],
      "metadata": {
        "id": "2cKIjLovY2H7"
      }
    },
    {
      "cell_type": "markdown",
      "source": [
        "# Step 7: One-Hot Encoding for Categorical Variables"
      ],
      "metadata": {
        "id": "gHJ2Zpn5Zayb"
      }
    },
    {
      "cell_type": "code",
      "source": [
        "# Data cleaning\n",
        "\n",
        "# Convert 'gender' into numeric using one-hot encoding\n",
        "df = pd.get_dummies(df, columns=['gender'], drop_first=True)\n"
      ],
      "metadata": {
        "id": "TznxHIKEYimE"
      },
      "execution_count": 20,
      "outputs": []
    },
    {
      "cell_type": "markdown",
      "source": [
        "gender is categorical, so we encode it. drop_first=True avoids multicollinearity."
      ],
      "metadata": {
        "id": "qLat0H2PZiYp"
      }
    },
    {
      "cell_type": "markdown",
      "source": [
        "# Step 8: Feature Selection using Feature Importance"
      ],
      "metadata": {
        "id": "cg0kS8o3Zv1e"
      }
    },
    {
      "cell_type": "code",
      "source": [
        "# Convert 'Y'/'N' to 1/0\n",
        "# Before fitting the model, apply this transformation:\n",
        "\n",
        "# Convert 'Y' and 'N' to 1 and 0 in all object-type columns\n",
        "for col in df.select_dtypes(include='object').columns:\n",
        "    df[col] = df[col].replace({'Y': 1, 'N': 0})\n"
      ],
      "metadata": {
        "id": "_C4iy9BSangd"
      },
      "execution_count": 22,
      "outputs": []
    },
    {
      "cell_type": "markdown",
      "source": [
        "Explanation:\n",
        "\n",
        "This loop goes through all categorical string columns.\n",
        "\n",
        "It replaces 'Y' with 1 and 'N' with 0."
      ],
      "metadata": {
        "id": "jLYI9D28awRT"
      }
    },
    {
      "cell_type": "code",
      "source": [
        "# Split data into features and target\n",
        "X = df.drop('smoking', axis=1)\n",
        "y = df['smoking']\n",
        "\n",
        "# Use ExtraTreesClassifier to get feature importances\n",
        "model = ExtraTreesClassifier()\n",
        "model.fit(X, y)\n",
        "\n",
        "# Select top 15 important features\n",
        "importances = pd.Series(model.feature_importances_, index=X.columns)\n",
        "top_features = importances.nlargest(15)\n",
        "\n",
        "# Plot the top features\n",
        "top_features.plot(kind='barh')\n",
        "plt.title(\"Top 15 Feature Importances\")\n",
        "plt.show()\n",
        "\n",
        "# Keep only the top 15 features\n",
        "X = X[top_features.index]\n"
      ],
      "metadata": {
        "colab": {
          "base_uri": "https://localhost:8080/",
          "height": 452
        },
        "id": "gh_8U8oYZeaV",
        "outputId": "f4b1e963-66c3-4ae4-853b-b8eae693513c"
      },
      "execution_count": 23,
      "outputs": [
        {
          "output_type": "display_data",
          "data": {
            "text/plain": [
              "<Figure size 640x480 with 1 Axes>"
            ],
            "image/png": "[encoded data removed]"
          },
          "metadata": {}
        }
      ]
    },
    {
      "cell_type": "markdown",
      "source": [
        "- Feature importance is a technique\n",
        "that calculate a score for all the\n",
        "input features for a given model.\n",
        "- So, out of 24 features we will select the\n",
        "top 15 features based on the score.\n",
        "- This reduces the dimensionality and keeps only the most important predictors for smoking."
      ],
      "metadata": {
        "id": "oekkdnS8bFID"
      }
    },
    {
      "cell_type": "markdown",
      "source": [
        "# Step 9: Data Splitting and Scaling\n"
      ],
      "metadata": {
        "id": "_-5lSjbWbdLM"
      }
    },
    {
      "cell_type": "code",
      "source": [
        "# Split the data into training and testing sets\n",
        "X_train, X_test, y_train, y_test = train_test_split(X, y, test_size=0.2, random_state=42)\n",
        "\n",
        "# Normalize the data using StandardScaler\n",
        "scaler = StandardScaler()\n",
        "X_train = scaler.fit_transform(X_train)\n",
        "X_test = scaler.transform(X_test)\n"
      ],
      "metadata": {
        "id": "S0w5CiIFbY88"
      },
      "execution_count": 24,
      "outputs": []
    },
    {
      "cell_type": "markdown",
      "source": [
        "Splits the data and applies feature scaling to improve model performance."
      ],
      "metadata": {
        "id": "lLcyuOglboo9"
      }
    },
    {
      "cell_type": "markdown",
      "source": [
        "# Step 10: Model Training and Evaluation\n",
        "10.1 Logistic Regression"
      ],
      "metadata": {
        "id": "rxBnUvTkbtsN"
      }
    },
    {
      "cell_type": "code",
      "source": [
        "lr = LogisticRegression()\n",
        "lr.fit(X_train, y_train)\n",
        "y_pred_lr = lr.predict(X_test)\n",
        "\n",
        "# Calculating accuracy and generating the classification report of Logistic Regression\n",
        "\n",
        "print(\"Logistic Regression Accuracy:\", accuracy_score(y_test, y_pred_lr))\n",
        "print(classification_report(y_test, y_pred_lr))\n"
      ],
      "metadata": {
        "colab": {
          "base_uri": "https://localhost:8080/"
        },
        "id": "PGGe_GukblFq",
        "outputId": "5ded2703-ca9d-435d-bcc4-0eed3227e02c"
      },
      "execution_count": 25,
      "outputs": [
        {
          "output_type": "stream",
          "name": "stdout",
          "text": [
            "Logistic Regression Accuracy: 0.730676003231888\n",
            "              precision    recall  f1-score   support\n",
            "\n",
            "           0       0.80      0.76      0.78      7027\n",
            "           1       0.62      0.69      0.65      4112\n",
            "\n",
            "    accuracy                           0.73     11139\n",
            "   macro avg       0.71      0.72      0.72     11139\n",
            "weighted avg       0.74      0.73      0.73     11139\n",
            "\n"
          ]
        }
      ]
    },
    {
      "cell_type": "markdown",
      "source": [
        "10.2 Decision Tree\n"
      ],
      "metadata": {
        "id": "cPpLVnn9cHz5"
      }
    },
    {
      "cell_type": "code",
      "source": [
        "dt = DecisionTreeClassifier(random_state=42)\n",
        "dt.fit(X_train, y_train)\n",
        "y_pred_dt = dt.predict(X_test)\n",
        "\n",
        "print(\"Decision Tree Accuracy:\", accuracy_score(y_test, y_pred_dt))\n",
        "print(classification_report(y_test, y_pred_dt))\n"
      ],
      "metadata": {
        "colab": {
          "base_uri": "https://localhost:8080/"
        },
        "id": "VU-lqMcgcJFn",
        "outputId": "add0e441-9182-4d08-a615-39de11791f36"
      },
      "execution_count": 26,
      "outputs": [
        {
          "output_type": "stream",
          "name": "stdout",
          "text": [
            "Decision Tree Accuracy: 0.7867851692252447\n",
            "              precision    recall  f1-score   support\n",
            "\n",
            "           0       0.83      0.83      0.83      7027\n",
            "           1       0.71      0.71      0.71      4112\n",
            "\n",
            "    accuracy                           0.79     11139\n",
            "   macro avg       0.77      0.77      0.77     11139\n",
            "weighted avg       0.79      0.79      0.79     11139\n",
            "\n"
          ]
        }
      ]
    },
    {
      "cell_type": "markdown",
      "source": [
        "10.3 Bagging Classifier (Bagging Algorithm)\n",
        "\n",
        "Bootstrap Aggregation or bagging involves taking multiple samples from the training dataset\n",
        "(with replacement) and training a model for each sample."
      ],
      "metadata": {
        "id": "w3q7dyMUcUVK"
      }
    },
    {
      "cell_type": "code",
      "source": [
        "from sklearn.ensemble import BaggingClassifier\n",
        "from sklearn.tree import DecisionTreeClassifier\n",
        "\n",
        "# Correct usage for newer versions of scikit-learn (v1.2+)\n",
        "bag = BaggingClassifier(estimator=DecisionTreeClassifier(), n_estimators=100, random_state=42)\n"
      ],
      "metadata": {
        "id": "hIXpXhnocniK"
      },
      "execution_count": 28,
      "outputs": []
    },
    {
      "cell_type": "code",
      "source": [
        "\n",
        "bag.fit(X_train, y_train)\n",
        "y_pred_bag = bag.predict(X_test)\n",
        "\n",
        "print(\"Bagging Accuracy:\", accuracy_score(y_test, y_pred_bag))\n",
        "print(classification_report(y_test, y_pred_bag))\n"
      ],
      "metadata": {
        "colab": {
          "base_uri": "https://localhost:8080/"
        },
        "id": "rirJU-BmcPgP",
        "outputId": "e24d51a4-d2c8-43ec-b9df-f7b0a08dd530"
      },
      "execution_count": 30,
      "outputs": [
        {
          "output_type": "stream",
          "name": "stdout",
          "text": [
            "Bagging Accuracy: 0.8263757967501572\n",
            "              precision    recall  f1-score   support\n",
            "\n",
            "           0       0.87      0.85      0.86      7027\n",
            "           1       0.75      0.79      0.77      4112\n",
            "\n",
            "    accuracy                           0.83     11139\n",
            "   macro avg       0.81      0.82      0.82     11139\n",
            "weighted avg       0.83      0.83      0.83     11139\n",
            "\n"
          ]
        }
      ]
    },
    {
      "cell_type": "markdown",
      "source": [
        "10.4 Random Forest\n"
      ],
      "metadata": {
        "id": "NNcCNTyVdFz8"
      }
    },
    {
      "cell_type": "code",
      "source": [
        "rf = RandomForestClassifier(random_state=42)\n",
        "rf.fit(X_train, y_train)\n",
        "y_pred_rf = rf.predict(X_test)\n",
        "\n",
        "print(\"Random Forest Accuracy:\", accuracy_score(y_test, y_pred_rf))\n",
        "print(classification_report(y_test, y_pred_rf))\n"
      ],
      "metadata": {
        "colab": {
          "base_uri": "https://localhost:8080/"
        },
        "id": "D-zWP5AycW8L",
        "outputId": "a0d064b6-3754-4fd2-9a5a-f42d7f939910"
      },
      "execution_count": 31,
      "outputs": [
        {
          "output_type": "stream",
          "name": "stdout",
          "text": [
            "Random Forest Accuracy: 0.8249394021007271\n",
            "              precision    recall  f1-score   support\n",
            "\n",
            "           0       0.87      0.85      0.86      7027\n",
            "           1       0.75      0.78      0.77      4112\n",
            "\n",
            "    accuracy                           0.82     11139\n",
            "   macro avg       0.81      0.82      0.81     11139\n",
            "weighted avg       0.83      0.82      0.83     11139\n",
            "\n"
          ]
        }
      ]
    },
    {
      "cell_type": "markdown",
      "source": [
        "10.5 Extra Trees"
      ],
      "metadata": {
        "id": "r94p7-jKdV6L"
      }
    },
    {
      "cell_type": "code",
      "source": [
        "et = ExtraTreesClassifier(random_state=42)\n",
        "et.fit(X_train, y_train)\n",
        "y_pred_et = et.predict(X_test)\n",
        "\n",
        "print(\"Extra Trees Accuracy:\", accuracy_score(y_test, y_pred_et))\n",
        "print(classification_report(y_test, y_pred_et))\n"
      ],
      "metadata": {
        "colab": {
          "base_uri": "https://localhost:8080/"
        },
        "id": "R4cxePBOdIuK",
        "outputId": "00a88fee-dcc6-4c98-a30b-db20b1ad17f1"
      },
      "execution_count": 32,
      "outputs": [
        {
          "output_type": "stream",
          "name": "stdout",
          "text": [
            "Extra Trees Accuracy: 0.8235030074512972\n",
            "              precision    recall  f1-score   support\n",
            "\n",
            "           0       0.88      0.84      0.86      7027\n",
            "           1       0.74      0.80      0.77      4112\n",
            "\n",
            "    accuracy                           0.82     11139\n",
            "   macro avg       0.81      0.82      0.81     11139\n",
            "weighted avg       0.83      0.82      0.82     11139\n",
            "\n"
          ]
        }
      ]
    },
    {
      "cell_type": "markdown",
      "source": [
        "- Each model is trained and evaluated for performance.\n",
        "- We use accuracy and classification reports (precision, recall, f1-score)."
      ],
      "metadata": {
        "id": "zbTIg6dJdjk9"
      }
    },
    {
      "cell_type": "markdown",
      "source": [
        "# Step 11: Model Comparison Summary\n"
      ],
      "metadata": {
        "id": "DwKuPnNfdsrF"
      }
    },
    {
      "cell_type": "code",
      "source": [
        "results = pd.DataFrame({\n",
        "    'Model': ['Logistic Regression', 'Decision Tree', 'Bagging', 'Random Forest', 'Extra Trees'],\n",
        "    'Accuracy': [\n",
        "        accuracy_score(y_test, y_pred_lr),\n",
        "        accuracy_score(y_test, y_pred_dt),\n",
        "        accuracy_score(y_test, y_pred_bag),\n",
        "        accuracy_score(y_test, y_pred_rf),\n",
        "        accuracy_score(y_test, y_pred_et)\n",
        "    ]\n",
        "})\n",
        "\n",
        "# Display sorted results\n",
        "results.sort_values(by='Accuracy', ascending=False)\n",
        "\n",
        "# Helps compare models and choose the best-performing one.\n"
      ],
      "metadata": {
        "colab": {
          "base_uri": "https://localhost:8080/",
          "height": 206
        },
        "id": "rgZFg368dcto",
        "outputId": "db5cfbab-0b61-495f-c627-cbf417626152"
      },
      "execution_count": 33,
      "outputs": [
        {
          "output_type": "execute_result",
          "data": {
            "text/plain": [
              "                 Model  Accuracy\n",
              "2              Bagging  0.826376\n",
              "3        Random Forest  0.824939\n",
              "4          Extra Trees  0.823503\n",
              "1        Decision Tree  0.786785\n",
              "0  Logistic Regression  0.730676"
            ],
            "text/html": [
              "\n",
              "  <div id=\"df-c6cbdf0f-de87-4478-a3c8-60ef84628a88\" class=\"colab-df-container\">\n",
              "    <div>\n",
              "<style scoped>\n",
              "    .dataframe tbody tr th:only-of-type {\n",
              "        vertical-align: middle;\n",
              "    }\n",
              "\n",
              "    .dataframe tbody tr th {\n",
              "        vertical-align: top;\n",
              "    }\n",
              "\n",
              "    .dataframe thead th {\n",
              "        text-align: right;\n",
              "    }\n",
              "</style>\n",
              "<table border=\"1\" class=\"dataframe\">\n",
              "  <thead>\n",
              "    <tr style=\"text-align: right;\">\n",
              "      <th></th>\n",
              "      <th>Model</th>\n",
              "      <th>Accuracy</th>\n",
              "    </tr>\n",
              "  </thead>\n",
              "  <tbody>\n",
              "    <tr>\n",
              "      <th>2</th>\n",
              "      <td>Bagging</td>\n",
              "      <td>0.826376</td>\n",
              "    </tr>\n",
              "    <tr>\n",
              "      <th>3</th>\n",
              "      <td>Random Forest</td>\n",
              "      <td>0.824939</td>\n",
              "    </tr>\n",
              "    <tr>\n",
              "      <th>4</th>\n",
              "      <td>Extra Trees</td>\n",
              "      <td>0.823503</td>\n",
              "    </tr>\n",
              "    <tr>\n",
              "      <th>1</th>\n",
              "      <td>Decision Tree</td>\n",
              "      <td>0.786785</td>\n",
              "    </tr>\n",
              "    <tr>\n",
              "      <th>0</th>\n",
              "      <td>Logistic Regression</td>\n",
              "      <td>0.730676</td>\n",
              "    </tr>\n",
              "  </tbody>\n",
              "</table>\n",
              "</div>\n",
              "    <div class=\"colab-df-buttons\">\n",
              "\n",
              "  <div class=\"colab-df-container\">\n",
              "    <button class=\"colab-df-convert\" onclick=\"convertToInteractive('df-c6cbdf0f-de87-4478-a3c8-60ef84628a88')\"\n",
              "            title=\"Convert this dataframe to an interactive table.\"\n",
              "            style=\"display:none;\">\n",
              "\n",
              "  <svg xmlns=\"http://www.w3.org/2000/svg\" height=\"24px\" viewBox=\"0 -960 960 960\">\n",
              "    <path d=\"M120-120v-720h720v720H120Zm60-500h600v-160H180v160Zm220 220h160v-160H400v160Zm0 220h160v-160H400v160ZM180-400h160v-160H180v160Zm440 0h160v-160H620v160ZM180-180h160v-160H180v160Zm440 0h160v-160H620v160Z\"/>\n",
              "  </svg>\n",
              "    </button>\n",
              "\n",
              "  <style>\n",
              "    .colab-df-container {\n",
              "      display:flex;\n",
              "      gap: 12px;\n",
              "    }\n",
              "\n",
              "    .colab-df-convert {\n",
              "      background-color: #E8F0FE;\n",
              "      border: none;\n",
              "      border-radius: 50%;\n",
              "      cursor: pointer;\n",
              "      display: none;\n",
              "      fill: #1967D2;\n",
              "      height: 32px;\n",
              "      padding: 0 0 0 0;\n",
              "      width: 32px;\n",
              "    }\n",
              "\n",
              "    .colab-df-convert:hover {\n",
              "      background-color: #E2EBFA;\n",
              "      box-shadow: 0px 1px 2px rgba(60, 64, 67, 0.3), 0px 1px 3px 1px rgba(60, 64, 67, 0.15);\n",
              "      fill: #174EA6;\n",
              "    }\n",
              "\n",
              "    .colab-df-buttons div {\n",
              "      margin-bottom: 4px;\n",
              "    }\n",
              "\n",
              "    [theme=dark] .colab-df-convert {\n",
              "      background-color: #3B4455;\n",
              "      fill: #D2E3FC;\n",
              "    }\n",
              "\n",
              "    [theme=dark] .colab-df-convert:hover {\n",
              "      background-color: #434B5C;\n",
              "      box-shadow: 0px 1px 3px 1px rgba(0, 0, 0, 0.15);\n",
              "      filter: drop-shadow(0px 1px 2px rgba(0, 0, 0, 0.3));\n",
              "      fill: #FFFFFF;\n",
              "    }\n",
              "  </style>\n",
              "\n",
              "    <script>\n",
              "      const buttonEl =\n",
              "        document.querySelector('#df-c6cbdf0f-de87-4478-a3c8-60ef84628a88 button.colab-df-convert');\n",
              "      buttonEl.style.display =\n",
              "        google.colab.kernel.accessAllowed ? 'block' : 'none';\n",
              "\n",
              "      async function convertToInteractive(key) {\n",
              "        const element = document.querySelector('#df-c6cbdf0f-de87-4478-a3c8-60ef84628a88');\n",
              "        const dataTable =\n",
              "          await google.colab.kernel.invokeFunction('convertToInteractive',\n",
              "                                                    [key], {});\n",
              "        if (!dataTable) return;\n",
              "\n",
              "        const docLinkHtml = 'Like what you see? Visit the ' +\n",
              "          '<a target=\"_blank\" href=https://colab.research.google.com/notebooks/data_table.ipynb>data table notebook</a>'\n",
              "          + ' to learn more about interactive tables.';\n",
              "        element.innerHTML = '';\n",
              "        dataTable['output_type'] = 'display_data';\n",
              "        await google.colab.output.renderOutput(dataTable, element);\n",
              "        const docLink = document.createElement('div');\n",
              "        docLink.innerHTML = docLinkHtml;\n",
              "        element.appendChild(docLink);\n",
              "      }\n",
              "    </script>\n",
              "  </div>\n",
              "\n",
              "\n",
              "<div id=\"df-c8184ef3-9b8a-4454-92d7-fc1b3a87f186\">\n",
              "  <button class=\"colab-df-quickchart\" onclick=\"quickchart('df-c8184ef3-9b8a-4454-92d7-fc1b3a87f186')\"\n",
              "            title=\"Suggest charts\"\n",
              "            style=\"display:none;\">\n",
              "\n",
              "<svg xmlns=\"http://www.w3.org/2000/svg\" height=\"24px\"viewBox=\"0 0 24 24\"\n",
              "     width=\"24px\">\n",
              "    <g>\n",
              "        <path d=\"M19 3H5c-1.1 0-2 .9-2 2v14c0 1.1.9 2 2 2h14c1.1 0 2-.9 2-2V5c0-1.1-.9-2-2-2zM9 17H7v-7h2v7zm4 0h-2V7h2v10zm4 0h-2v-4h2v4z\"/>\n",
              "    </g>\n",
              "</svg>\n",
              "  </button>\n",
              "\n",
              "<style>\n",
              "  .colab-df-quickchart {\n",
              "      --bg-color: #E8F0FE;\n",
              "      --fill-color: #1967D2;\n",
              "      --hover-bg-color: #E2EBFA;\n",
              "      --hover-fill-color: #174EA6;\n",
              "      --disabled-fill-color: #AAA;\n",
              "      --disabled-bg-color: #DDD;\n",
              "  }\n",
              "\n",
              "  [theme=dark] .colab-df-quickchart {\n",
              "      --bg-color: #3B4455;\n",
              "      --fill-color: #D2E3FC;\n",
              "      --hover-bg-color: #434B5C;\n",
              "      --hover-fill-color: #FFFFFF;\n",
              "      --disabled-bg-color: #3B4455;\n",
              "      --disabled-fill-color: #666;\n",
              "  }\n",
              "\n",
              "  .colab-df-quickchart {\n",
              "    background-color: var(--bg-color);\n",
              "    border: none;\n",
              "    border-radius: 50%;\n",
              "    cursor: pointer;\n",
              "    display: none;\n",
              "    fill: var(--fill-color);\n",
              "    height: 32px;\n",
              "    padding: 0;\n",
              "    width: 32px;\n",
              "  }\n",
              "\n",
              "  .colab-df-quickchart:hover {\n",
              "    background-color: var(--hover-bg-color);\n",
              "    box-shadow: 0 1px 2px rgba(60, 64, 67, 0.3), 0 1px 3px 1px rgba(60, 64, 67, 0.15);\n",
              "    fill: var(--button-hover-fill-color);\n",
              "  }\n",
              "\n",
              "  .colab-df-quickchart-complete:disabled,\n",
              "  .colab-df-quickchart-complete:disabled:hover {\n",
              "    background-color: var(--disabled-bg-color);\n",
              "    fill: var(--disabled-fill-color);\n",
              "    box-shadow: none;\n",
              "  }\n",
              "\n",
              "  .colab-df-spinner {\n",
              "    border: 2px solid var(--fill-color);\n",
              "    border-color: transparent;\n",
              "    border-bottom-color: var(--fill-color);\n",
              "    animation:\n",
              "      spin 1s steps(1) infinite;\n",
              "  }\n",
              "\n",
              "  @keyframes spin {\n",
              "    0% {\n",
              "      border-color: transparent;\n",
              "      border-bottom-color: var(--fill-color);\n",
              "      border-left-color: var(--fill-color);\n",
              "    }\n",
              "    20% {\n",
              "      border-color: transparent;\n",
              "      border-left-color: var(--fill-color);\n",
              "      border-top-color: var(--fill-color);\n",
              "    }\n",
              "    30% {\n",
              "      border-color: transparent;\n",
              "      border-left-color: var(--fill-color);\n",
              "      border-top-color: var(--fill-color);\n",
              "      border-right-color: var(--fill-color);\n",
              "    }\n",
              "    40% {\n",
              "      border-color: transparent;\n",
              "      border-right-color: var(--fill-color);\n",
              "      border-top-color: var(--fill-color);\n",
              "    }\n",
              "    60% {\n",
              "      border-color: transparent;\n",
              "      border-right-color: var(--fill-color);\n",
              "    }\n",
              "    80% {\n",
              "      border-color: transparent;\n",
              "      border-right-color: var(--fill-color);\n",
              "      border-bottom-color: var(--fill-color);\n",
              "    }\n",
              "    90% {\n",
              "      border-color: transparent;\n",
              "      border-bottom-color: var(--fill-color);\n",
              "    }\n",
              "  }\n",
              "</style>\n",
              "\n",
              "  <script>\n",
              "    async function quickchart(key) {\n",
              "      const quickchartButtonEl =\n",
              "        document.querySelector('#' + key + ' button');\n",
              "      quickchartButtonEl.disabled = true;  // To prevent multiple clicks.\n",
              "      quickchartButtonEl.classList.add('colab-df-spinner');\n",
              "      try {\n",
              "        const charts = await google.colab.kernel.invokeFunction(\n",
              "            'suggestCharts', [key], {});\n",
              "      } catch (error) {\n",
              "        console.error('Error during call to suggestCharts:', error);\n",
              "      }\n",
              "      quickchartButtonEl.classList.remove('colab-df-spinner');\n",
              "      quickchartButtonEl.classList.add('colab-df-quickchart-complete');\n",
              "    }\n",
              "    (() => {\n",
              "      let quickchartButtonEl =\n",
              "        document.querySelector('#df-c8184ef3-9b8a-4454-92d7-fc1b3a87f186 button');\n",
              "      quickchartButtonEl.style.display =\n",
              "        google.colab.kernel.accessAllowed ? 'block' : 'none';\n",
              "    })();\n",
              "  </script>\n",
              "</div>\n",
              "\n",
              "    </div>\n",
              "  </div>\n"
            ],
            "application/vnd.google.colaboratory.intrinsic+json": {
              "type": "dataframe",
              "summary": "{\n  \"name\": \"results\",\n  \"rows\": 5,\n  \"fields\": [\n    {\n      \"column\": \"Model\",\n      \"properties\": {\n        \"dtype\": \"string\",\n        \"num_unique_values\": 5,\n        \"samples\": [\n          \"Random Forest\",\n          \"Logistic Regression\",\n          \"Extra Trees\"\n        ],\n        \"semantic_type\": \"\",\n        \"description\": \"\"\n      }\n    },\n    {\n      \"column\": \"Accuracy\",\n      \"properties\": {\n        \"dtype\": \"number\",\n        \"std\": 0.04134783692179462,\n        \"min\": 0.730676003231888,\n        \"max\": 0.8263757967501572,\n        \"num_unique_values\": 5,\n        \"samples\": [\n          0.8249394021007271,\n          0.730676003231888,\n          0.8235030074512972\n        ],\n        \"semantic_type\": \"\",\n        \"description\": \"\"\n      }\n    }\n  ]\n}"
            }
          },
          "metadata": {},
          "execution_count": 33
        }
      ]
    },
    {
      "cell_type": "markdown",
      "source": [
        "\n",
        "\n",
        "### **Model Performance Comparison**\n",
        "\n",
        "We evaluated five different machine learning models on the bio-signal dataset to classify individuals as smokers or non-smokers. Below is the summary of performance based on **accuracy**, **precision**, **recall**, and **F1-score**:\n",
        "\n",
        "| Model                 | Accuracy | Precision (Class 1) | Recall (Class 1) | F1-Score (Class 1) |\n",
        "|----------------------|----------|----------------------|------------------|--------------------|\n",
        "| Logistic Regression  | 0.7307   | 0.62                 | 0.69             | 0.65               |\n",
        "| Decision Tree        | 0.7868   | 0.71                 | 0.71             | 0.71               |\n",
        "| Bagging Classifier   | **0.8264** | **0.75**              | **0.79**          | **0.77**            |\n",
        "| Random Forest        | 0.8249   | 0.75                 | 0.78             | 0.77               |\n",
        "| Extra Trees          | 0.8235   | 0.74                 | 0.80             | 0.77               |\n",
        "\n",
        "> Class 1 refers to the **smoker** class (the positive class in this classification problem).\n",
        "\n",
        "---\n",
        "\n",
        "### **Interpretation:**\n",
        "\n",
        "- **Logistic Regression** had the lowest performance, which is expected since it’s a linear model and may not capture complex patterns in the data.\n",
        "- **Decision Tree** improved performance significantly by modeling non-linear relationships.\n",
        "- **Ensemble Methods (Bagging, Random Forest, Extra Trees)** showed the **best performance**, with **Bagging Classifier achieving the highest overall accuracy (82.64%)**.\n",
        "- **Precision and Recall for the smoker class (1)** improved considerably in ensemble models, which is crucial for real-world health applications to reduce false negatives (i.e., missing actual smokers).\n",
        "\n"
      ],
      "metadata": {
        "id": "GqVkcOX2elCq"
      }
    },
    {
      "cell_type": "markdown",
      "source": [
        "\n",
        "#  **Conclusion:**\n",
        "\n",
        "- We successfully built multiple classification models to predict smoking habits based on bio-signal data.\n",
        "- The dataset, containing 27 health-related features, was cleaned, visualized, and analyzed. Feature importance was used to reduce dimensionality to the top 15 features.\n",
        "- Ensemble techniques significantly improved classification performance compared to individual models.\n",
        "- **Bagging Classifier** provided the best balance of accuracy, recall, and F1-score for the smoker class, making it the **recommended model for deployment**.\n",
        "\n",
        "\n",
        "\n",
        "### **Next Steps / Recommendations:**\n",
        "\n",
        "- **Hyperparameter Tuning:** Use `GridSearchCV` or `RandomizedSearchCV` to further optimize ensemble models.\n",
        "- **Cross-Validation:** Add k-fold cross-validation to verify model generalization.\n",
        "- **Model Interpretability:** Use SHAP or LIME to explain individual predictions.\n",
        "- **Deployment:** The final model can be deployed using Flask, FastAPI, or Streamlit for real-time prediction use.\n",
        "\n"
      ],
      "metadata": {
        "id": "NPpZmMh2ezY7"
      }
    },
    {
      "cell_type": "markdown",
      "source": [
        "# Step 12: Save the Best Model (Bagging Classifier)\n",
        "Use Python’s joblib or pickle to save the trained model. joblib is recommended for large models."
      ],
      "metadata": {
        "id": "SXcBz-MbfcXN"
      }
    },
    {
      "cell_type": "code",
      "source": [
        "import joblib\n",
        "\n",
        "# Save the trained Bagging model\n",
        "joblib.dump(bag, 'bagging_model.pkl')\n",
        "\n",
        "# Save the scaler used during preprocessing (optional but important for inference)\n",
        "joblib.dump(scaler, 'scaler.pkl')\n"
      ],
      "metadata": {
        "colab": {
          "base_uri": "https://localhost:8080/"
        },
        "id": "lRQ_Zu8hdy44",
        "outputId": "291af64e-47e8-4aaf-a3c7-5c6f2f0018b8"
      },
      "execution_count": 34,
      "outputs": [
        {
          "output_type": "execute_result",
          "data": {
            "text/plain": [
              "['scaler.pkl']"
            ]
          },
          "metadata": {},
          "execution_count": 34
        }
      ]
    },
    {
      "cell_type": "code",
      "source": [
        "#Reload the Model for Inference Later\n",
        "\n",
        "# Load the model and scaler back\n",
        "loaded_model = joblib.load('bagging_model.pkl')\n",
        "loaded_scaler = joblib.load('scaler.pkl')\n",
        "\n",
        "# Example: Make prediction on new data\n",
        "# (Assume `new_data` is a DataFrame with same columns as training input)\n",
        "\n",
        "import pandas as pd\n",
        "\n",
        "# Feature order must match top 15 selected during training\n",
        "import pandas as pd\n",
        "\n",
        "# Input features in exact order used during training\n",
        "new_data = pd.DataFrame([{\n",
        "    'gender_M': 1,                # 1 for Male, 0 for Female\n",
        "    'Gtp': 40.0,\n",
        "    'triglyceride': 145.0,\n",
        "    'height(cm)': 172.0,\n",
        "    'hemoglobin': 14.8,\n",
        "    'weight(kg)': 72.0,\n",
        "    'age': 40,\n",
        "    'waist(cm)': 85.0,\n",
        "    'HDL': 52.0,\n",
        "    'fasting blood sugar': 95.0,\n",
        "    'ALT': 30.0,\n",
        "    'systolic': 120.0,\n",
        "    'LDL': 110.0,\n",
        "    'relaxation': 80.0,\n",
        "    'Cholesterol': 180.0\n",
        "}])\n",
        "\n",
        "\n",
        "# Step 1: Scale it\n",
        "new_data_scaled = loaded_scaler.transform(new_data)\n",
        "\n",
        "# Step 2: Predict\n",
        "predicted_class = loaded_model.predict(new_data_scaled)\n",
        "\n",
        "# Output result\n",
        "print(\"Prediction:\", \"Smoker\" if predicted_class[0] == 1 else \"Non-Smoker\")\n"
      ],
      "metadata": {
        "colab": {
          "base_uri": "https://localhost:8080/"
        },
        "id": "pOFsxiodfiTX",
        "outputId": "2a891ffa-0fff-4f0a-f5fa-f3f284501482"
      },
      "execution_count": 38,
      "outputs": [
        {
          "output_type": "stream",
          "name": "stdout",
          "text": [
            "Prediction: Non-Smoker\n"
          ]
        }
      ]
    },
    {
      "cell_type": "code",
      "source": [
        "print(X.columns.tolist())\n"
      ],
      "metadata": {
        "colab": {
          "base_uri": "https://localhost:8080/"
        },
        "id": "LDEnOEiAgcur",
        "outputId": "f34d7fce-f2e3-43b9-edfb-85ce0b8264c9"
      },
      "execution_count": 36,
      "outputs": [
        {
          "output_type": "stream",
          "name": "stdout",
          "text": [
            "['gender_M', 'Gtp', 'triglyceride', 'height(cm)', 'hemoglobin', 'weight(kg)', 'age', 'waist(cm)', 'HDL', 'fasting blood sugar', 'ALT', 'systolic', 'LDL', 'relaxation', 'Cholesterol']\n"
          ]
        }
      ]
    },
    {
      "cell_type": "markdown",
      "source": [
        "# Gradio App to Load and Use Bagging Classifier\n",
        "1. Make sure we've already saved your model and scaler:\n",
        "\n",
        "\n",
        "```\n",
        "# This is formatted as code\n",
        "import joblib\n",
        "\n",
        "# Save trained model and scaler\n",
        "joblib.dump(bag, 'bagging_model.pkl')\n",
        "joblib.dump(scaler, 'scaler.pkl')\n",
        "\n",
        "```\n",
        "\n",
        "2. Now create the Gradio App\n",
        "python\n",
        "Copy\n",
        "Edit\n",
        "\n"
      ],
      "metadata": {
        "id": "CSCcoZanhjE1"
      }
    },
    {
      "cell_type": "code",
      "source": [
        "!pip install gradio"
      ],
      "metadata": {
        "colab": {
          "base_uri": "https://localhost:8080/"
        },
        "id": "cDbT9YSGiZWa",
        "outputId": "0bf639f8-1ae8-418a-b909-6d36af6a1682"
      },
      "execution_count": 39,
      "outputs": [
        {
          "output_type": "stream",
          "name": "stdout",
          "text": [
            "Collecting gradio\n",
            "  Downloading gradio-5.25.2-py3-none-any.whl.metadata (16 kB)\n",
            "Collecting aiofiles<25.0,>=22.0 (from gradio)\n",
            "  Downloading aiofiles-24.1.0-py3-none-any.whl.metadata (10 kB)\n",
            "Requirement already satisfied: anyio<5.0,>=3.0 in /usr/local/lib/python3.11/dist-packages (from gradio) (3.7.1)\n",
            "Collecting fastapi<1.0,>=0.115.2 (from gradio)\n",
            "  Downloading fastapi-0.115.12-py3-none-any.whl.metadata (27 kB)\n",
            "Collecting ffmpy (from gradio)\n",
            "  Downloading ffmpy-0.5.0-py3-none-any.whl.metadata (3.0 kB)\n",
            "Collecting gradio-client==1.8.0 (from gradio)\n",
            "  Downloading gradio_client-1.8.0-py3-none-any.whl.metadata (7.1 kB)\n",
            "Collecting groovy~=0.1 (from gradio)\n",
            "  Downloading groovy-0.1.2-py3-none-any.whl.metadata (6.1 kB)\n",
            "Requirement already satisfied: httpx>=0.24.1 in /usr/local/lib/python3.11/dist-packages (from gradio) (0.28.1)\n",
            "Requirement already satisfied: huggingface-hub>=0.28.1 in /usr/local/lib/python3.11/dist-packages (from gradio) (0.28.1)\n",
            "Requirement already satisfied: jinja2<4.0 in /usr/local/lib/python3.11/dist-packages (from gradio) (3.1.5)\n",
            "Requirement already satisfied: markupsafe<4.0,>=2.0 in /usr/local/lib/python3.11/dist-packages (from gradio) (3.0.2)\n",
            "Requirement already satisfied: numpy<3.0,>=1.0 in /usr/local/lib/python3.11/dist-packages (from gradio) (1.26.4)\n",
            "Requirement already satisfied: orjson~=3.0 in /usr/local/lib/python3.11/dist-packages (from gradio) (3.10.15)\n",
            "Requirement already satisfied: packaging in /usr/local/lib/python3.11/dist-packages (from gradio) (24.2)\n",
            "Requirement already satisfied: pandas<3.0,>=1.0 in /usr/local/lib/python3.11/dist-packages (from gradio) (2.2.2)\n",
            "Requirement already satisfied: pillow<12.0,>=8.0 in /usr/local/lib/python3.11/dist-packages (from gradio) (11.1.0)\n",
            "Requirement already satisfied: pydantic<2.12,>=2.0 in /usr/local/lib/python3.11/dist-packages (from gradio) (2.10.6)\n",
            "Collecting pydub (from gradio)\n",
            "  Downloading pydub-0.25.1-py2.py3-none-any.whl.metadata (1.4 kB)\n",
            "Collecting python-multipart>=0.0.18 (from gradio)\n",
            "  Downloading python_multipart-0.0.20-py3-none-any.whl.metadata (1.8 kB)\n",
            "Requirement already satisfied: pyyaml<7.0,>=5.0 in /usr/local/lib/python3.11/dist-packages (from gradio) (6.0.2)\n",
            "Collecting ruff>=0.9.3 (from gradio)\n",
            "  Downloading ruff-0.11.6-py3-none-manylinux_2_17_x86_64.manylinux2014_x86_64.whl.metadata (25 kB)\n",
            "Collecting safehttpx<0.2.0,>=0.1.6 (from gradio)\n",
            "  Downloading safehttpx-0.1.6-py3-none-any.whl.metadata (4.2 kB)\n",
            "Collecting semantic-version~=2.0 (from gradio)\n",
            "  Downloading semantic_version-2.10.0-py2.py3-none-any.whl.metadata (9.7 kB)\n",
            "Collecting starlette<1.0,>=0.40.0 (from gradio)\n",
            "  Downloading starlette-0.46.2-py3-none-any.whl.metadata (6.2 kB)\n",
            "Collecting tomlkit<0.14.0,>=0.12.0 (from gradio)\n",
            "  Downloading tomlkit-0.13.2-py3-none-any.whl.metadata (2.7 kB)\n",
            "Requirement already satisfied: typer<1.0,>=0.12 in /usr/local/lib/python3.11/dist-packages (from gradio) (0.15.2)\n",
            "Requirement already satisfied: typing-extensions~=4.0 in /usr/local/lib/python3.11/dist-packages (from gradio) (4.12.2)\n",
            "Collecting uvicorn>=0.14.0 (from gradio)\n",
            "  Downloading uvicorn-0.34.2-py3-none-any.whl.metadata (6.5 kB)\n",
            "Requirement already satisfied: fsspec in /usr/local/lib/python3.11/dist-packages (from gradio-client==1.8.0->gradio) (2024.10.0)\n",
            "Requirement already satisfied: websockets<16.0,>=10.0 in /usr/local/lib/python3.11/dist-packages (from gradio-client==1.8.0->gradio) (14.2)\n",
            "Requirement already satisfied: idna>=2.8 in /usr/local/lib/python3.11/dist-packages (from anyio<5.0,>=3.0->gradio) (3.10)\n",
            "Requirement already satisfied: sniffio>=1.1 in /usr/local/lib/python3.11/dist-packages (from anyio<5.0,>=3.0->gradio) (1.3.1)\n",
            "Requirement already satisfied: certifi in /usr/local/lib/python3.11/dist-packages (from httpx>=0.24.1->gradio) (2025.1.31)\n",
            "Requirement already satisfied: httpcore==1.* in /usr/local/lib/python3.11/dist-packages (from httpx>=0.24.1->gradio) (1.0.7)\n",
            "Requirement already satisfied: h11<0.15,>=0.13 in /usr/local/lib/python3.11/dist-packages (from httpcore==1.*->httpx>=0.24.1->gradio) (0.14.0)\n",
            "Requirement already satisfied: filelock in /usr/local/lib/python3.11/dist-packages (from huggingface-hub>=0.28.1->gradio) (3.17.0)\n",
            "Requirement already satisfied: requests in /usr/local/lib/python3.11/dist-packages (from huggingface-hub>=0.28.1->gradio) (2.32.3)\n",
            "Requirement already satisfied: tqdm>=4.42.1 in /usr/local/lib/python3.11/dist-packages (from huggingface-hub>=0.28.1->gradio) (4.67.1)\n",
            "Requirement already satisfied: python-dateutil>=2.8.2 in /usr/local/lib/python3.11/dist-packages (from pandas<3.0,>=1.0->gradio) (2.8.2)\n",
            "Requirement already satisfied: pytz>=2020.1 in /usr/local/lib/python3.11/dist-packages (from pandas<3.0,>=1.0->gradio) (2025.1)\n",
            "Requirement already satisfied: tzdata>=2022.7 in /usr/local/lib/python3.11/dist-packages (from pandas<3.0,>=1.0->gradio) (2025.1)\n",
            "Requirement already satisfied: annotated-types>=0.6.0 in /usr/local/lib/python3.11/dist-packages (from pydantic<2.12,>=2.0->gradio) (0.7.0)\n",
            "Requirement already satisfied: pydantic-core==2.27.2 in /usr/local/lib/python3.11/dist-packages (from pydantic<2.12,>=2.0->gradio) (2.27.2)\n",
            "Requirement already satisfied: click>=8.0.0 in /usr/local/lib/python3.11/dist-packages (from typer<1.0,>=0.12->gradio) (8.1.8)\n",
            "Requirement already satisfied: shellingham>=1.3.0 in /usr/local/lib/python3.11/dist-packages (from typer<1.0,>=0.12->gradio) (1.5.4)\n",
            "Requirement already satisfied: rich>=10.11.0 in /usr/local/lib/python3.11/dist-packages (from typer<1.0,>=0.12->gradio) (13.9.4)\n",
            "Requirement already satisfied: six>=1.5 in /usr/local/lib/python3.11/dist-packages (from python-dateutil>=2.8.2->pandas<3.0,>=1.0->gradio) (1.17.0)\n",
            "Requirement already satisfied: markdown-it-py>=2.2.0 in /usr/local/lib/python3.11/dist-packages (from rich>=10.11.0->typer<1.0,>=0.12->gradio) (3.0.0)\n",
            "Requirement already satisfied: pygments<3.0.0,>=2.13.0 in /usr/local/lib/python3.11/dist-packages (from rich>=10.11.0->typer<1.0,>=0.12->gradio) (2.18.0)\n",
            "Requirement already satisfied: charset-normalizer<4,>=2 in /usr/local/lib/python3.11/dist-packages (from requests->huggingface-hub>=0.28.1->gradio) (3.4.1)\n",
            "Requirement already satisfied: urllib3<3,>=1.21.1 in /usr/local/lib/python3.11/dist-packages (from requests->huggingface-hub>=0.28.1->gradio) (2.3.0)\n",
            "Requirement already satisfied: mdurl~=0.1 in /usr/local/lib/python3.11/dist-packages (from markdown-it-py>=2.2.0->rich>=10.11.0->typer<1.0,>=0.12->gradio) (0.1.2)\n",
            "Downloading gradio-5.25.2-py3-none-any.whl (46.9 MB)\n",
            "\u001b[2K   \u001b[90m━━━━━━━━━━━━━━━━━━━━━━━━━━━━━━━━━━━━━━━━\u001b[0m \u001b[32m46.9/46.9 MB\u001b[0m \u001b[31m22.0 MB/s\u001b[0m eta \u001b[36m0:00:00\u001b[0m\n",
            "\u001b[?25hDownloading gradio_client-1.8.0-py3-none-any.whl (322 kB)\n",
            "\u001b[2K   \u001b[90m━━━━━━━━━━━━━━━━━━━━━━━━━━━━━━━━━━━━━━━━\u001b[0m \u001b[32m322.2/322.2 kB\u001b[0m \u001b[31m28.3 MB/s\u001b[0m eta \u001b[36m0:00:00\u001b[0m\n",
            "\u001b[?25hDownloading aiofiles-24.1.0-py3-none-any.whl (15 kB)\n",
            "Downloading fastapi-0.115.12-py3-none-any.whl (95 kB)\n",
            "\u001b[2K   \u001b[90m━━━━━━━━━━━━━━━━━━━━━━━━━━━━━━━━━━━━━━━━\u001b[0m \u001b[32m95.2/95.2 kB\u001b[0m \u001b[31m9.5 MB/s\u001b[0m eta \u001b[36m0:00:00\u001b[0m\n",
            "\u001b[?25hDownloading groovy-0.1.2-py3-none-any.whl (14 kB)\n",
            "Downloading python_multipart-0.0.20-py3-none-any.whl (24 kB)\n",
            "Downloading ruff-0.11.6-py3-none-manylinux_2_17_x86_64.manylinux2014_x86_64.whl (11.5 MB)\n",
            "\u001b[2K   \u001b[90m━━━━━━━━━━━━━━━━━━━━━━━━━━━━━━━━━━━━━━━━\u001b[0m \u001b[32m11.5/11.5 MB\u001b[0m \u001b[31m84.5 MB/s\u001b[0m eta \u001b[36m0:00:00\u001b[0m\n",
            "\u001b[?25hDownloading safehttpx-0.1.6-py3-none-any.whl (8.7 kB)\n",
            "Downloading semantic_version-2.10.0-py2.py3-none-any.whl (15 kB)\n",
            "Downloading starlette-0.46.2-py3-none-any.whl (72 kB)\n",
            "\u001b[2K   \u001b[90m━━━━━━━━━━━━━━━━━━━━━━━━━━━━━━━━━━━━━━━━\u001b[0m \u001b[32m72.0/72.0 kB\u001b[0m \u001b[31m7.3 MB/s\u001b[0m eta \u001b[36m0:00:00\u001b[0m\n",
            "\u001b[?25hDownloading tomlkit-0.13.2-py3-none-any.whl (37 kB)\n",
            "Downloading uvicorn-0.34.2-py3-none-any.whl (62 kB)\n",
            "\u001b[2K   \u001b[90m━━━━━━━━━━━━━━━━━━━━━━━━━━━━━━━━━━━━━━━━\u001b[0m \u001b[32m62.5/62.5 kB\u001b[0m \u001b[31m6.0 MB/s\u001b[0m eta \u001b[36m0:00:00\u001b[0m\n",
            "\u001b[?25hDownloading ffmpy-0.5.0-py3-none-any.whl (6.0 kB)\n",
            "Downloading pydub-0.25.1-py2.py3-none-any.whl (32 kB)\n",
            "Installing collected packages: pydub, uvicorn, tomlkit, semantic-version, ruff, python-multipart, groovy, ffmpy, aiofiles, starlette, safehttpx, gradio-client, fastapi, gradio\n",
            "Successfully installed aiofiles-24.1.0 fastapi-0.115.12 ffmpy-0.5.0 gradio-5.25.2 gradio-client-1.8.0 groovy-0.1.2 pydub-0.25.1 python-multipart-0.0.20 ruff-0.11.6 safehttpx-0.1.6 semantic-version-2.10.0 starlette-0.46.2 tomlkit-0.13.2 uvicorn-0.34.2\n"
          ]
        }
      ]
    },
    {
      "cell_type": "code",
      "source": [
        "import gradio as gr\n",
        "import joblib\n",
        "import pandas as pd\n",
        "\n",
        "# Load the saved model and scaler\n",
        "model = joblib.load('bagging_model.pkl')\n",
        "scaler = joblib.load('scaler.pkl')\n",
        "\n",
        "# Define the 15 input feature names used in training\n",
        "feature_names = [\n",
        "    'gender_M', 'Gtp', 'triglyceride', 'height(cm)', 'hemoglobin',\n",
        "    'weight(kg)', 'age', 'waist(cm)', 'HDL', 'fasting blood sugar',\n",
        "    'ALT', 'systolic', 'LDL', 'relaxation', 'Cholesterol'\n",
        "\n",
        "]\n",
        "\n",
        "# Define the prediction function\n",
        "def predict_smoking(*inputs):\n",
        "    # Convert input to DataFrame\n",
        "    input_df = pd.DataFrame([inputs], columns=feature_names)\n",
        "\n",
        "    # Scale the input\n",
        "    input_scaled = scaler.transform(input_df)\n",
        "\n",
        "    # Make prediction\n",
        "    prediction = model.predict(input_scaled)[0]\n",
        "\n",
        "    # Interpret prediction\n",
        "    return \"Smoker\" if prediction == 1 else \"Non-Smoker\"\n",
        "\n",
        "# Define the interface\n",
        "inputs = [gr.Number(label=feature) for feature in feature_names]\n",
        "\n",
        "gr.Interface(\n",
        "    fn=predict_smoking,\n",
        "    inputs=inputs,\n",
        "    outputs=\"text\",\n",
        "    title=\"Bio-Signal Smoking Classifier\",\n",
        "    description=\"Enter the health parameters to predict whether a person is a smoker or not based on bio-signals.\"\n",
        ").launch()\n"
      ],
      "metadata": {
        "colab": {
          "base_uri": "https://localhost:8080/",
          "height": 646
        },
        "id": "nR6xf9Wph8FN",
        "outputId": "0458d64a-8e0a-4463-f2ad-282b58befdc1"
      },
      "execution_count": 41,
      "outputs": [
        {
          "output_type": "stream",
          "name": "stdout",
          "text": [
            "It looks like you are running Gradio on a hosted a Jupyter notebook. For the Gradio app to work, sharing must be enabled. Automatically setting `share=True` (you can turn this off by setting `share=False` in `launch()` explicitly).\n",
            "\n",
            "Colab notebook detected. To show errors in colab notebook, set debug=True in launch()\n",
            "* Running on public URL: https://d4e0349457fce6045b.gradio.live\n",
            "\n",
            "This share link expires in 1 week. For free permanent hosting and GPU upgrades, run `gradio deploy` from the terminal in the working directory to deploy to Hugging Face Spaces (https://huggingface.co/spaces)\n"
          ]
        },
        {
          "output_type": "display_data",
          "data": {
            "text/plain": [
              "<IPython.core.display.HTML object>"
            ],
            "text/html": [
              "<div><iframe src=\"https://d4e0349457fce6045b.gradio.live\" width=\"100%\" height=\"500\" allow=\"autoplay; camera; microphone; clipboard-read; clipboard-write;\" frameborder=\"0\" allowfullscreen></iframe></div>"
            ]
          },
          "metadata": {}
        },
        {
          "output_type": "execute_result",
          "data": {
            "text/plain": []
          },
          "metadata": {},
          "execution_count": 41
        }
      ]
    },
    {
      "cell_type": "code",
      "source": [],
      "metadata": {
        "id": "7RgHzjQdioqf"
      },
      "execution_count": null,
      "outputs": []
    }
  ]
}